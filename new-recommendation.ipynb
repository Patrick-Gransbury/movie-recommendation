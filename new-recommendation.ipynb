{
 "cells": [
  {
   "cell_type": "code",
   "execution_count": 56,
   "metadata": {},
   "outputs": [],
   "source": [
    "import pandas as pd\n",
    "import numpy as np\n",
    "import ast\n",
    "import re\n",
    "from sklearn.feature_extraction.text import CountVectorizer\n",
    "from sklearn.metrics.pairwise import cosine_similarity\n",
    "from sklearn.preprocessing import MinMaxScaler\n",
    "from nltk.corpus import stopwords\n",
    "from nltk.stem.porter import PorterStemmer"
   ]
  },
  {
   "cell_type": "code",
   "execution_count": 57,
   "metadata": {},
   "outputs": [],
   "source": [
    "# Load datasets\n",
    "credits_df = pd.read_csv('credits.csv')\n",
    "movies_df = pd.read_csv('movies.csv')\n",
    "\n",
    "# Merge datasets\n",
    "movies = movies_df.merge(credits_df, on='title')\n",
    "# Keep required columns\n",
    "movies = movies[['movie_id', 'title', 'overview', 'genres', 'keywords', 'cast', 'crew', 'popularity']]"
   ]
  },
  {
   "cell_type": "code",
   "execution_count": 58,
   "metadata": {},
   "outputs": [],
   "source": [
    "# Drop null values\n",
    "movies.dropna(inplace=True)\n",
    "\n",
    "# Convert stringified lists into Python lists\n",
    "def convert_list(obj):\n",
    "    return [i['name'] for i in ast.literal_eval(obj)]\n",
    "\n",
    "movies['genres'] = movies['genres'].apply(convert_list)\n",
    "movies['keywords'] = movies['keywords'].apply(convert_list)\n",
    "\n",
    "def fetch_lead_actors(obj):\n",
    "    return [i['name'] for i in ast.literal_eval(obj)[:3]]\n",
    "\n",
    "def fetch_director(obj):\n",
    "    return [i['name'] for i in ast.literal_eval(obj) if i['job'] == 'Director']\n",
    "\n",
    "movies['cast'] = movies['cast'].apply(fetch_lead_actors)\n",
    "movies['crew'] = movies['crew'].apply(fetch_director)"
   ]
  },
  {
   "cell_type": "code",
   "execution_count": 59,
   "metadata": {},
   "outputs": [],
   "source": [
    "# Normalize popularity\n",
    "scaler = MinMaxScaler()\n",
    "movies['popularity_log'] = np.log1p(movies['popularity'])\n",
    "movies['popularity_log_norm'] = scaler.fit_transform(movies[['popularity_log']])"
   ]
  },
  {
   "cell_type": "code",
   "execution_count": 60,
   "metadata": {},
   "outputs": [],
   "source": [
    "# Remove spaces in tags\n",
    "movies['genres'] = movies['genres'].apply(lambda x: [i.replace(\" \", \"\") for i in x])\n",
    "movies['keywords'] = movies['keywords'].apply(lambda x: [i.replace(\" \", \"\") for i in x])\n",
    "movies['cast'] = movies['cast'].apply(lambda x: [i.replace(\" \", \"\") for i in x])\n",
    "movies['crew'] = movies['crew'].apply(lambda x: [i.replace(\" \", \"\") for i in x])"
   ]
  },
  {
   "cell_type": "code",
   "execution_count": 61,
   "metadata": {},
   "outputs": [],
   "source": [
    "def pre_processing(content):\n",
    "    # Only keeping alphabets in the content \n",
    "    stemmed_content = re.sub('[^a-zA-Z]', ' ', content)\n",
    "    # Removing spaces and converting to lowercase\n",
    "    stemmed_content = stemmed_content.lower()\n",
    "    stemmed_content = stemmed_content.split()\n",
    "    return [word for word in stemmed_content if not word in stopwords.words('english')]"
   ]
  },
  {
   "cell_type": "code",
   "execution_count": 62,
   "metadata": {},
   "outputs": [],
   "source": [
    "movies['tags'] = movies['overview'].apply(pre_processing).apply(lambda x: ' '.join(x)) + ' ' + \\\n",
    "                    movies['genres'].apply(lambda x: ' '.join(x)) + ' ' + \\\n",
    "                    movies['keywords'].apply(lambda x: ' '.join(x)) + ' ' + \\\n",
    "                    movies['cast'].apply(lambda x: ' '.join(x)) + ' ' + \\\n",
    "                    movies['crew'].apply(lambda x: ' '.join(x))"
   ]
  },
  {
   "cell_type": "code",
   "execution_count": 63,
   "metadata": {},
   "outputs": [],
   "source": [
    "final_movies_df = movies[['movie_id', 'title', 'overview', 'popularity_log_norm', 'tags']]"
   ]
  },
  {
   "cell_type": "code",
   "execution_count": 64,
   "metadata": {},
   "outputs": [
    {
     "name": "stderr",
     "output_type": "stream",
     "text": [
      "C:\\Users\\grans\\AppData\\Local\\Temp\\ipykernel_65252\\4138064354.py:1: SettingWithCopyWarning: \n",
      "A value is trying to be set on a copy of a slice from a DataFrame.\n",
      "Try using .loc[row_indexer,col_indexer] = value instead\n",
      "\n",
      "See the caveats in the documentation: https://pandas.pydata.org/pandas-docs/stable/user_guide/indexing.html#returning-a-view-versus-a-copy\n",
      "  final_movies_df['tags'] = final_movies_df['tags'].str.lower()\n"
     ]
    }
   ],
   "source": [
    "final_movies_df['tags'] = final_movies_df['tags'].str.lower()"
   ]
  },
  {
   "cell_type": "code",
   "execution_count": 65,
   "metadata": {},
   "outputs": [],
   "source": [
    "final_movies_df.to_csv('processed_movies.csv', index=False)"
   ]
  }
 ],
 "metadata": {
  "kernelspec": {
   "display_name": "Python 3",
   "language": "python",
   "name": "python3"
  },
  "language_info": {
   "codemirror_mode": {
    "name": "ipython",
    "version": 3
   },
   "file_extension": ".py",
   "mimetype": "text/x-python",
   "name": "python",
   "nbconvert_exporter": "python",
   "pygments_lexer": "ipython3",
   "version": "3.11.2"
  }
 },
 "nbformat": 4,
 "nbformat_minor": 2
}
