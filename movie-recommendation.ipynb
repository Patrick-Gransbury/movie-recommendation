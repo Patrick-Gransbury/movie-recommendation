{
 "cells": [
  {
   "cell_type": "markdown",
   "metadata": {},
   "source": [
    "# Movie Recommendation"
   ]
  },
  {
   "cell_type": "markdown",
   "metadata": {},
   "source": [
    "### Imports and Data Sets"
   ]
  },
  {
   "cell_type": "code",
   "execution_count": 5,
   "metadata": {},
   "outputs": [],
   "source": [
    "import numpy as np\n",
    "import pandas as pd\n",
    "import ast\n",
    "import nltk\n",
    "import re\n",
    "import requests\n",
    "\n",
    "from sklearn.feature_extraction.text import CountVectorizer\n",
    "from sklearn.metrics.pairwise import cosine_similarity\n",
    "from nltk.stem.porter import PorterStemmer\n",
    "from tabulate import tabulate\n",
    "from IPython.display import display, HTML, Image\n",
    "\n",
    "TMDB_API_KEY = 'a1fe2f0ac92d2dd849674115d68777a5'\n",
    "\n",
    "ps = PorterStemmer()\n",
    "cv = CountVectorizer(max_features = 5000, stop_words = 'english')\n",
    "\n",
    "credits_df = pd.read_csv('credits.csv')\n",
    "movies_df = pd.read_csv('movies.csv')"
   ]
  },
  {
   "cell_type": "code",
   "execution_count": 6,
   "metadata": {},
   "outputs": [],
   "source": [
    "pd.set_option('display.max_columns', None)\n",
    "pd.set_option('display.max_rows', None)"
   ]
  },
  {
   "cell_type": "markdown",
   "metadata": {},
   "source": [
    "### Combine movies and credits df using title as key"
   ]
  },
  {
   "cell_type": "code",
   "execution_count": 7,
   "metadata": {},
   "outputs": [],
   "source": [
    "movies_df = movies_df.merge(credits_df, on='title')\n",
    "movies_df = movies_df[['movie_id', 'title', 'overview', 'genres', 'keywords', 'cast', 'crew', 'popularity']]"
   ]
  },
  {
   "cell_type": "code",
   "execution_count": 8,
   "metadata": {},
   "outputs": [
    {
     "name": "stdout",
     "output_type": "stream",
     "text": [
      "<class 'pandas.core.frame.DataFrame'>\n",
      "RangeIndex: 4808 entries, 0 to 4807\n",
      "Data columns (total 8 columns):\n",
      " #   Column      Non-Null Count  Dtype  \n",
      "---  ------      --------------  -----  \n",
      " 0   movie_id    4808 non-null   int64  \n",
      " 1   title       4808 non-null   object \n",
      " 2   overview    4805 non-null   object \n",
      " 3   genres      4808 non-null   object \n",
      " 4   keywords    4808 non-null   object \n",
      " 5   cast        4808 non-null   object \n",
      " 6   crew        4808 non-null   object \n",
      " 7   popularity  4808 non-null   float64\n",
      "dtypes: float64(1), int64(1), object(6)\n",
      "memory usage: 300.6+ KB\n"
     ]
    }
   ],
   "source": [
    "movies_df.info()"
   ]
  },
  {
   "cell_type": "markdown",
   "metadata": {},
   "source": [
    "### Checking for and removing any empty or duplicated rows "
   ]
  },
  {
   "cell_type": "code",
   "execution_count": 9,
   "metadata": {},
   "outputs": [
    {
     "data": {
      "text/plain": [
       "movie_id      0\n",
       "title         0\n",
       "overview      3\n",
       "genres        0\n",
       "keywords      0\n",
       "cast          0\n",
       "crew          0\n",
       "popularity    0\n",
       "dtype: int64"
      ]
     },
     "execution_count": 9,
     "metadata": {},
     "output_type": "execute_result"
    }
   ],
   "source": [
    "movies_df.isnull().sum()"
   ]
  },
  {
   "cell_type": "code",
   "execution_count": 10,
   "metadata": {},
   "outputs": [],
   "source": [
    "movies_df.dropna(inplace=True)"
   ]
  },
  {
   "cell_type": "code",
   "execution_count": 11,
   "metadata": {},
   "outputs": [
    {
     "data": {
      "text/plain": [
       "0"
      ]
     },
     "execution_count": 11,
     "metadata": {},
     "output_type": "execute_result"
    }
   ],
   "source": [
    "movies_df.duplicated().sum()"
   ]
  },
  {
   "cell_type": "markdown",
   "metadata": {},
   "source": [
    "### Making Genres and Keywords into a readable list"
   ]
  },
  {
   "cell_type": "code",
   "execution_count": 12,
   "metadata": {},
   "outputs": [],
   "source": [
    "def convert_list(obj):\n",
    "    L=[]\n",
    "    for i in ast.literal_eval(obj):\n",
    "        L.append(i['name'])\n",
    "    return L"
   ]
  },
  {
   "cell_type": "markdown",
   "metadata": {},
   "source": [
    "### Fetching the top 3 cast"
   ]
  },
  {
   "cell_type": "code",
   "execution_count": 13,
   "metadata": {},
   "outputs": [],
   "source": [
    "def fetch_lead_actors(obj):\n",
    "    L=[]\n",
    "    counter = 0\n",
    "    for i in ast.literal_eval(obj):\n",
    "        if counter != 3:\n",
    "            L.append(i['name'])\n",
    "            counter += 1\n",
    "        else:\n",
    "            break\n",
    "    return L"
   ]
  },
  {
   "cell_type": "markdown",
   "metadata": {},
   "source": [
    "### Fetching the Director(s)"
   ]
  },
  {
   "cell_type": "code",
   "execution_count": 14,
   "metadata": {},
   "outputs": [],
   "source": [
    "def fetch_director(obj):\n",
    "    L=[]\n",
    "    for i in ast.literal_eval(obj):\n",
    "        if i['job']=='Director':\n",
    "            L.append(i['name'])\n",
    "    return L"
   ]
  },
  {
   "cell_type": "markdown",
   "metadata": {},
   "source": [
    "### Using the above functions"
   ]
  },
  {
   "cell_type": "code",
   "execution_count": 15,
   "metadata": {},
   "outputs": [],
   "source": [
    "movies_df['overview'] = movies_df['overview'].apply(lambda x:x.split())"
   ]
  },
  {
   "cell_type": "code",
   "execution_count": 16,
   "metadata": {},
   "outputs": [],
   "source": [
    "movies_df['genres'] = movies_df['genres'].apply(convert_list)"
   ]
  },
  {
   "cell_type": "code",
   "execution_count": 17,
   "metadata": {},
   "outputs": [],
   "source": [
    "movies_df['keywords'] = movies_df['keywords'].apply(convert_list)"
   ]
  },
  {
   "cell_type": "code",
   "execution_count": 18,
   "metadata": {},
   "outputs": [],
   "source": [
    "movies_df['cast'] = movies_df['cast'].apply(fetch_lead_actors)"
   ]
  },
  {
   "cell_type": "code",
   "execution_count": 19,
   "metadata": {},
   "outputs": [],
   "source": [
    "movies_df['crew'] = movies_df['crew'].apply(fetch_director)"
   ]
  },
  {
   "cell_type": "markdown",
   "metadata": {},
   "source": [
    "### Removes all white space for comparison"
   ]
  },
  {
   "cell_type": "code",
   "execution_count": 20,
   "metadata": {},
   "outputs": [
    {
     "data": {
      "text/html": [
       "<div>\n",
       "<style scoped>\n",
       "    .dataframe tbody tr th:only-of-type {\n",
       "        vertical-align: middle;\n",
       "    }\n",
       "\n",
       "    .dataframe tbody tr th {\n",
       "        vertical-align: top;\n",
       "    }\n",
       "\n",
       "    .dataframe thead th {\n",
       "        text-align: right;\n",
       "    }\n",
       "</style>\n",
       "<table border=\"1\" class=\"dataframe\">\n",
       "  <thead>\n",
       "    <tr style=\"text-align: right;\">\n",
       "      <th></th>\n",
       "      <th>movie_id</th>\n",
       "      <th>title</th>\n",
       "      <th>overview</th>\n",
       "      <th>genres</th>\n",
       "      <th>keywords</th>\n",
       "      <th>cast</th>\n",
       "      <th>crew</th>\n",
       "      <th>popularity</th>\n",
       "    </tr>\n",
       "  </thead>\n",
       "  <tbody>\n",
       "    <tr>\n",
       "      <th>0</th>\n",
       "      <td>19995</td>\n",
       "      <td>Avatar</td>\n",
       "      <td>[In, the, 22nd, century,, a, paraplegic, Marin...</td>\n",
       "      <td>[Action, Adventure, Fantasy, ScienceFiction]</td>\n",
       "      <td>[cultureclash, future, spacewar, spacecolony, ...</td>\n",
       "      <td>[SamWorthington, ZoeSaldana, SigourneyWeaver]</td>\n",
       "      <td>[JamesCameron]</td>\n",
       "      <td>150.437577</td>\n",
       "    </tr>\n",
       "    <tr>\n",
       "      <th>1</th>\n",
       "      <td>285</td>\n",
       "      <td>Pirates of the Caribbean: At World's End</td>\n",
       "      <td>[Captain, Barbossa,, long, believed, to, be, d...</td>\n",
       "      <td>[Adventure, Fantasy, Action]</td>\n",
       "      <td>[ocean, drugabuse, exoticisland, eastindiatrad...</td>\n",
       "      <td>[JohnnyDepp, OrlandoBloom, KeiraKnightley]</td>\n",
       "      <td>[GoreVerbinski]</td>\n",
       "      <td>139.082615</td>\n",
       "    </tr>\n",
       "    <tr>\n",
       "      <th>2</th>\n",
       "      <td>206647</td>\n",
       "      <td>Spectre</td>\n",
       "      <td>[A, cryptic, message, from, Bond’s, past, send...</td>\n",
       "      <td>[Action, Adventure, Crime]</td>\n",
       "      <td>[spy, basedonnovel, secretagent, sequel, mi6, ...</td>\n",
       "      <td>[DanielCraig, ChristophWaltz, LéaSeydoux]</td>\n",
       "      <td>[SamMendes]</td>\n",
       "      <td>107.376788</td>\n",
       "    </tr>\n",
       "    <tr>\n",
       "      <th>3</th>\n",
       "      <td>49026</td>\n",
       "      <td>The Dark Knight Rises</td>\n",
       "      <td>[Following, the, death, of, District, Attorney...</td>\n",
       "      <td>[Action, Crime, Drama, Thriller]</td>\n",
       "      <td>[dccomics, crimefighter, terrorist, secretiden...</td>\n",
       "      <td>[ChristianBale, MichaelCaine, GaryOldman]</td>\n",
       "      <td>[ChristopherNolan]</td>\n",
       "      <td>112.312950</td>\n",
       "    </tr>\n",
       "    <tr>\n",
       "      <th>4</th>\n",
       "      <td>49529</td>\n",
       "      <td>John Carter</td>\n",
       "      <td>[John, Carter, is, a, war-weary,, former, mili...</td>\n",
       "      <td>[Action, Adventure, ScienceFiction]</td>\n",
       "      <td>[basedonnovel, mars, medallion, spacetravel, p...</td>\n",
       "      <td>[TaylorKitsch, LynnCollins, SamanthaMorton]</td>\n",
       "      <td>[AndrewStanton]</td>\n",
       "      <td>43.926995</td>\n",
       "    </tr>\n",
       "  </tbody>\n",
       "</table>\n",
       "</div>"
      ],
      "text/plain": [
       "   movie_id                                     title   \n",
       "0     19995                                    Avatar  \\\n",
       "1       285  Pirates of the Caribbean: At World's End   \n",
       "2    206647                                   Spectre   \n",
       "3     49026                     The Dark Knight Rises   \n",
       "4     49529                               John Carter   \n",
       "\n",
       "                                            overview   \n",
       "0  [In, the, 22nd, century,, a, paraplegic, Marin...  \\\n",
       "1  [Captain, Barbossa,, long, believed, to, be, d...   \n",
       "2  [A, cryptic, message, from, Bond’s, past, send...   \n",
       "3  [Following, the, death, of, District, Attorney...   \n",
       "4  [John, Carter, is, a, war-weary,, former, mili...   \n",
       "\n",
       "                                         genres   \n",
       "0  [Action, Adventure, Fantasy, ScienceFiction]  \\\n",
       "1                  [Adventure, Fantasy, Action]   \n",
       "2                    [Action, Adventure, Crime]   \n",
       "3              [Action, Crime, Drama, Thriller]   \n",
       "4           [Action, Adventure, ScienceFiction]   \n",
       "\n",
       "                                            keywords   \n",
       "0  [cultureclash, future, spacewar, spacecolony, ...  \\\n",
       "1  [ocean, drugabuse, exoticisland, eastindiatrad...   \n",
       "2  [spy, basedonnovel, secretagent, sequel, mi6, ...   \n",
       "3  [dccomics, crimefighter, terrorist, secretiden...   \n",
       "4  [basedonnovel, mars, medallion, spacetravel, p...   \n",
       "\n",
       "                                            cast                crew   \n",
       "0  [SamWorthington, ZoeSaldana, SigourneyWeaver]      [JamesCameron]  \\\n",
       "1     [JohnnyDepp, OrlandoBloom, KeiraKnightley]     [GoreVerbinski]   \n",
       "2      [DanielCraig, ChristophWaltz, LéaSeydoux]         [SamMendes]   \n",
       "3      [ChristianBale, MichaelCaine, GaryOldman]  [ChristopherNolan]   \n",
       "4    [TaylorKitsch, LynnCollins, SamanthaMorton]     [AndrewStanton]   \n",
       "\n",
       "   popularity  \n",
       "0  150.437577  \n",
       "1  139.082615  \n",
       "2  107.376788  \n",
       "3  112.312950  \n",
       "4   43.926995  "
      ]
     },
     "execution_count": 20,
     "metadata": {},
     "output_type": "execute_result"
    }
   ],
   "source": [
    "movies_df['genres'] = movies_df['genres'].apply(lambda x:[i.replace(\" \",\"\") for i in x])\n",
    "movies_df['keywords'] = movies_df['keywords'].apply(lambda x:[i.replace(\" \",\"\") for i in x])\n",
    "movies_df['cast'] = movies_df['cast'].apply(lambda x:[i.replace(\" \",\"\") for i in x])\n",
    "movies_df['crew'] = movies_df['crew'].apply(lambda x:[i.replace(\" \",\"\") for i in x])\n",
    "\n",
    "movies_df.head()"
   ]
  },
  {
   "cell_type": "markdown",
   "metadata": {},
   "source": [
    "### New column with combined, overview, genres, keywords, cast and crew"
   ]
  },
  {
   "cell_type": "code",
   "execution_count": 21,
   "metadata": {},
   "outputs": [],
   "source": [
    "movies_df['tags'] = movies_df['overview'] + movies_df['genres'] + movies_df['keywords'] + movies_df['cast'] + movies_df['crew']"
   ]
  },
  {
   "cell_type": "markdown",
   "metadata": {},
   "source": [
    "### New dataframe with 3 headers"
   ]
  },
  {
   "cell_type": "code",
   "execution_count": 22,
   "metadata": {},
   "outputs": [],
   "source": [
    "movies = movies_df[['movie_id', 'title', 'tags']]"
   ]
  },
  {
   "cell_type": "markdown",
   "metadata": {},
   "source": [
    "###### Turns into a string rather than a list"
   ]
  },
  {
   "cell_type": "code",
   "execution_count": 23,
   "metadata": {},
   "outputs": [
    {
     "name": "stderr",
     "output_type": "stream",
     "text": [
      "C:\\Users\\grans\\AppData\\Local\\Temp\\ipykernel_17128\\2816021526.py:1: SettingWithCopyWarning: \n",
      "A value is trying to be set on a copy of a slice from a DataFrame.\n",
      "Try using .loc[row_indexer,col_indexer] = value instead\n",
      "\n",
      "See the caveats in the documentation: https://pandas.pydata.org/pandas-docs/stable/user_guide/indexing.html#returning-a-view-versus-a-copy\n",
      "  movies['tags'] = movies['tags'].apply(lambda x:' '.join(x))\n"
     ]
    }
   ],
   "source": [
    "movies['tags'] = movies['tags'].apply(lambda x:' '.join(x))"
   ]
  },
  {
   "cell_type": "code",
   "execution_count": 24,
   "metadata": {},
   "outputs": [
    {
     "data": {
      "text/html": [
       "<div>\n",
       "<style scoped>\n",
       "    .dataframe tbody tr th:only-of-type {\n",
       "        vertical-align: middle;\n",
       "    }\n",
       "\n",
       "    .dataframe tbody tr th {\n",
       "        vertical-align: top;\n",
       "    }\n",
       "\n",
       "    .dataframe thead th {\n",
       "        text-align: right;\n",
       "    }\n",
       "</style>\n",
       "<table border=\"1\" class=\"dataframe\">\n",
       "  <thead>\n",
       "    <tr style=\"text-align: right;\">\n",
       "      <th></th>\n",
       "      <th>movie_id</th>\n",
       "      <th>title</th>\n",
       "      <th>tags</th>\n",
       "    </tr>\n",
       "  </thead>\n",
       "  <tbody>\n",
       "    <tr>\n",
       "      <th>0</th>\n",
       "      <td>19995</td>\n",
       "      <td>Avatar</td>\n",
       "      <td>In the 22nd century, a paraplegic Marine is di...</td>\n",
       "    </tr>\n",
       "    <tr>\n",
       "      <th>1</th>\n",
       "      <td>285</td>\n",
       "      <td>Pirates of the Caribbean: At World's End</td>\n",
       "      <td>Captain Barbossa, long believed to be dead, ha...</td>\n",
       "    </tr>\n",
       "    <tr>\n",
       "      <th>2</th>\n",
       "      <td>206647</td>\n",
       "      <td>Spectre</td>\n",
       "      <td>A cryptic message from Bond’s past sends him o...</td>\n",
       "    </tr>\n",
       "    <tr>\n",
       "      <th>3</th>\n",
       "      <td>49026</td>\n",
       "      <td>The Dark Knight Rises</td>\n",
       "      <td>Following the death of District Attorney Harve...</td>\n",
       "    </tr>\n",
       "    <tr>\n",
       "      <th>4</th>\n",
       "      <td>49529</td>\n",
       "      <td>John Carter</td>\n",
       "      <td>John Carter is a war-weary, former military ca...</td>\n",
       "    </tr>\n",
       "  </tbody>\n",
       "</table>\n",
       "</div>"
      ],
      "text/plain": [
       "   movie_id                                     title   \n",
       "0     19995                                    Avatar  \\\n",
       "1       285  Pirates of the Caribbean: At World's End   \n",
       "2    206647                                   Spectre   \n",
       "3     49026                     The Dark Knight Rises   \n",
       "4     49529                               John Carter   \n",
       "\n",
       "                                                tags  \n",
       "0  In the 22nd century, a paraplegic Marine is di...  \n",
       "1  Captain Barbossa, long believed to be dead, ha...  \n",
       "2  A cryptic message from Bond’s past sends him o...  \n",
       "3  Following the death of District Attorney Harve...  \n",
       "4  John Carter is a war-weary, former military ca...  "
      ]
     },
     "execution_count": 24,
     "metadata": {},
     "output_type": "execute_result"
    }
   ],
   "source": [
    "movies.head()"
   ]
  },
  {
   "cell_type": "code",
   "execution_count": 25,
   "metadata": {},
   "outputs": [
    {
     "name": "stderr",
     "output_type": "stream",
     "text": [
      "C:\\Users\\grans\\AppData\\Local\\Temp\\ipykernel_17128\\1170348455.py:1: SettingWithCopyWarning: \n",
      "A value is trying to be set on a copy of a slice from a DataFrame.\n",
      "Try using .loc[row_indexer,col_indexer] = value instead\n",
      "\n",
      "See the caveats in the documentation: https://pandas.pydata.org/pandas-docs/stable/user_guide/indexing.html#returning-a-view-versus-a-copy\n",
      "  movies['tags'] = movies['tags'].apply(lambda x:x.lower())\n"
     ]
    }
   ],
   "source": [
    "movies['tags'] = movies['tags'].apply(lambda x:x.lower())"
   ]
  },
  {
   "cell_type": "code",
   "execution_count": 26,
   "metadata": {},
   "outputs": [
    {
     "data": {
      "text/plain": [
       "5000"
      ]
     },
     "execution_count": 26,
     "metadata": {},
     "output_type": "execute_result"
    }
   ],
   "source": [
    "vectors = cv.fit_transform(movies['tags']).toarray()\n",
    "len(cv.get_feature_names_out())"
   ]
  },
  {
   "cell_type": "markdown",
   "metadata": {},
   "source": [
    "### Uses ps (automatic NLP)"
   ]
  },
  {
   "cell_type": "code",
   "execution_count": 27,
   "metadata": {},
   "outputs": [],
   "source": [
    "def stem(text):\n",
    "    y=[]\n",
    "    for i in text.split():\n",
    "        y.append(ps.stem(i))\n",
    "    return \" \".join(y)"
   ]
  },
  {
   "cell_type": "code",
   "execution_count": 28,
   "metadata": {},
   "outputs": [
    {
     "name": "stderr",
     "output_type": "stream",
     "text": [
      "C:\\Users\\grans\\AppData\\Local\\Temp\\ipykernel_17128\\3456099318.py:1: SettingWithCopyWarning: \n",
      "A value is trying to be set on a copy of a slice from a DataFrame.\n",
      "Try using .loc[row_indexer,col_indexer] = value instead\n",
      "\n",
      "See the caveats in the documentation: https://pandas.pydata.org/pandas-docs/stable/user_guide/indexing.html#returning-a-view-versus-a-copy\n",
      "  movies['tags'] = movies['tags'].apply(stem)\n"
     ]
    }
   ],
   "source": [
    "movies['tags'] = movies['tags'].apply(stem)"
   ]
  },
  {
   "cell_type": "code",
   "execution_count": 29,
   "metadata": {},
   "outputs": [],
   "source": [
    "similarity = cosine_similarity(vectors)"
   ]
  },
  {
   "cell_type": "code",
   "execution_count": 30,
   "metadata": {},
   "outputs": [
    {
     "data": {
      "text/plain": [
       "[(539, 0.26089696604360174),\n",
       " (507, 0.25302403842552984),\n",
       " (1194, 0.25226248955475644),\n",
       " (1216, 0.2480694691784169),\n",
       " (582, 0.24397501823713333),\n",
       " (1444, 0.24397501823713333),\n",
       " (260, 0.2428706962875665),\n",
       " (1920, 0.24053511772118194),\n",
       " (3730, 0.23904572186687872),\n",
       " (74, 0.22934123614693147)]"
      ]
     },
     "execution_count": 30,
     "metadata": {},
     "output_type": "execute_result"
    }
   ],
   "source": [
    "sorted(list(enumerate(similarity[0])), reverse=True, key=lambda x:x[1])[1:11]"
   ]
  },
  {
   "cell_type": "code",
   "execution_count": 31,
   "metadata": {},
   "outputs": [],
   "source": [
    "def split_names(name):\n",
    "    \n",
    "    return re.sub(r'([a-z])([A-Z])', r'\\1 \\2', name)"
   ]
  },
  {
   "cell_type": "code",
   "execution_count": 32,
   "metadata": {},
   "outputs": [],
   "source": [
    "def fetch_poster_path(movie_id):\n",
    "    url = f'https://api.themoviedb.org/3/movie/{movie_id}?api_key={TMDB_API_KEY}&language=en-US'\n",
    "    try:\n",
    "        response = requests.get(url)\n",
    "        response.raise_for_status()  # Raise an exception for HTTP errors\n",
    "        data = response.json()\n",
    "        poster_path = data.get('poster_path')\n",
    "        if poster_path:\n",
    "            return f'https://image.tmdb.org/t/p/w500/{poster_path}'\n",
    "    except requests.exceptions.RequestException as e:\n",
    "        print(f\"Error fetching poster for movie ID {movie_id}: {e}\")\n",
    "    return None"
   ]
  },
  {
   "cell_type": "code",
   "execution_count": 33,
   "metadata": {},
   "outputs": [],
   "source": [
    "def get_poster_html(movie_id):\n",
    "    poster_path = fetch_poster_path(movie_id)\n",
    "    if poster_path:\n",
    "        return f'<img src=\"{poster_path}\" style=\"max-height:150px;\">'\n",
    "    else:\n",
    "        return ''"
   ]
  },
  {
   "cell_type": "code",
   "execution_count": 34,
   "metadata": {},
   "outputs": [],
   "source": [
    "def get_movie_link_html(title):\n",
    "    google_search_link = f'https://www.google.com/search?q={title}'\n",
    "    return f'<a href=\"{google_search_link}\" target=\"_blank\">{title}</a>'"
   ]
  },
  {
   "cell_type": "code",
   "execution_count": 41,
   "metadata": {},
   "outputs": [],
   "source": [
    "def recommend(movie):\n",
    "    movie_index = movies[movies['title'] == movie].index[0]\n",
    "    distances = similarity[movie_index]\n",
    "    movies_list = sorted(list(enumerate(distances)), reverse=True, key=lambda x: x[1])[1:26]\n",
    "    \n",
    "    # Create a dictionary to store the combined scores (similarity + popularity_weight * popularity)\n",
    "    combined_scores = {}\n",
    "\n",
    "    for i in movies_list:\n",
    "        index = i[0]\n",
    "        \n",
    "        # Define your weights\n",
    "        popularity_weight = 0.002\n",
    "        similarity_weight = 1-popularity_weight\n",
    "\n",
    "        # Calculate the combined score\n",
    "        combined_score = (similarity_weight * i[1]) + (popularity_weight * movies_df.iloc[index].popularity)\n",
    "\n",
    "        combined_scores[index] = combined_score\n",
    "\n",
    "    # Sort the dictionary by combined scores in descending order\n",
    "    \n",
    "    sorted_combined_scores = sorted(combined_scores.items(), key=lambda x: x[1], reverse=True)\n",
    "\n",
    "    # Get the top 10 movies based on the combined scores\n",
    "    movies_final_list = sorted_combined_scores[:10]\n",
    "\n",
    "    # Create an empty HTML string to accumulate the content\n",
    "    html_content = ''\n",
    "\n",
    "    # Add column headers\n",
    "    headers_html = '<div style=\"display: flex; align-items: center; font-weight: bold; text-align: center; padding: 10px;\">'\n",
    "    headers_html += '<div style=\"flex: 1;\">#</div>'\n",
    "    headers_html += '<div style=\"flex: 2;\">Poster</div>'\n",
    "    headers_html += '<div style=\"flex: 2;\">Movie Title</div>'\n",
    "    headers_html += '<div style=\"flex: 8;\">Overview</div>'\n",
    "    headers_html += '<div style=\"flex: 2;\">Cast</div>'\n",
    "    headers_html += '<div style=\"flex: 2;\">Crew</div>'\n",
    "    headers_html += '</div>'\n",
    "    html_content += headers_html\n",
    "\n",
    "    for counter, i in enumerate(movies_final_list, start=1):\n",
    "        title = movies_df.iloc[i[0]].title\n",
    "        overview = ' '.join(movies_df.iloc[i[0]].overview)\n",
    "        cast = split_names('<br>'.join(movies_df.iloc[i[0]].cast))\n",
    "        crew = split_names('<br>'.join(movies_df.iloc[i[0]].crew))\n",
    "        movie_id = movies_df.iloc[i[0]].movie_id\n",
    "\n",
    "        # Get HTML for the poster image\n",
    "        poster_html = get_poster_html(movie_id)\n",
    "        \n",
    "        # Get clickable link HTML for the movie title\n",
    "        movie_title_link_html = get_movie_link_html(title)\n",
    "\n",
    "        # Build the row HTML\n",
    "        row_html = '<div style=\"display: flex; align-items: center; text-align: center; padding: 10px;\">'\n",
    "        row_html += f'<div style=\"flex: 1;\">{counter}</div>'\n",
    "        row_html += f'<div style=\"flex: 2;\">{poster_html}</div>'\n",
    "        row_html += f'<div style=\"flex: 2;\">{movie_title_link_html}</div>'\n",
    "        row_html += f'<div style=\"flex: 8;\">{overview}</div>'\n",
    "        row_html += f'<div style=\"flex: 2;\">{cast}</div>'\n",
    "        row_html += f'<div style=\"flex: 2;\">{crew}</div>'\n",
    "        row_html += '</div>'\n",
    "\n",
    "        # Append the row HTML to the content\n",
    "        html_content += row_html\n",
    "\n",
    "    # Display the accumulated HTML content\n",
    "    display(HTML(html_content))"
   ]
  },
  {
   "cell_type": "code",
   "execution_count": 43,
   "metadata": {},
   "outputs": [
    {
     "data": {
      "text/html": [
       "<div style=\"display: flex; align-items: center; font-weight: bold; text-align: center; padding: 10px;\"><div style=\"flex: 1;\">#</div><div style=\"flex: 2;\">Poster</div><div style=\"flex: 2;\">Movie Title</div><div style=\"flex: 8;\">Overview</div><div style=\"flex: 2;\">Cast</div><div style=\"flex: 2;\">Crew</div></div><div style=\"display: flex; align-items: center; text-align: center; padding: 10px;\"><div style=\"flex: 1;\">1</div><div style=\"flex: 2;\"><img src=\"https://image.tmdb.org/t/p/w500//r7vmZjiyZw9rpJMQJdXpjgiCOk9.jpg\" style=\"max-height:150px;\"></div><div style=\"flex: 2;\"><a href=\"https://www.google.com/search?q=Guardians of the Galaxy\" target=\"_blank\">Guardians of the Galaxy</a></div><div style=\"flex: 8;\">Light years from Earth, 26 years after being abducted, Peter Quill finds himself the prime target of a manhunt after discovering an orb wanted by Ronan the Accuser.</div><div style=\"flex: 2;\">Chris Pratt<br>Zoe Saldana<br>Dave Bautista</div><div style=\"flex: 2;\">James Gunn</div></div><div style=\"display: flex; align-items: center; text-align: center; padding: 10px;\"><div style=\"flex: 1;\">2</div><div style=\"flex: 2;\"><img src=\"https://image.tmdb.org/t/p/w500//rAGiXaUfPzY7CDEyNKUofk3Kw2e.jpg\" style=\"max-height:150px;\"></div><div style=\"flex: 2;\"><a href=\"https://www.google.com/search?q=Captain America: Civil War\" target=\"_blank\">Captain America: Civil War</a></div><div style=\"flex: 8;\">Following the events of Age of Ultron, the collective governments of the world pass an act designed to regulate all superhuman activity. This polarizes opinion amongst the Avengers, causing two factions to side with Iron Man or Captain America, which causes an epic battle between former allies.</div><div style=\"flex: 2;\">Chris Evans<br>Robert Downey Jr.<br>Scarlett Johansson</div><div style=\"flex: 2;\">Anthony Russo<br>Joe Russo</div></div><div style=\"display: flex; align-items: center; text-align: center; padding: 10px;\"><div style=\"flex: 1;\">3</div><div style=\"flex: 2;\"><img src=\"https://image.tmdb.org/t/p/w500//4ssDuvEDkSArWEdyBl2X5EHvYKU.jpg\" style=\"max-height:150px;\"></div><div style=\"flex: 2;\"><a href=\"https://www.google.com/search?q=Avengers: Age of Ultron\" target=\"_blank\">Avengers: Age of Ultron</a></div><div style=\"flex: 8;\">When Tony Stark tries to jumpstart a dormant peacekeeping program, things go awry and Earth’s Mightiest Heroes are put to the ultimate test as the fate of the planet hangs in the balance. As the villainous Ultron emerges, it is up to The Avengers to stop him from enacting his terrible plans, and soon uneasy alliances and unexpected action pave the way for an epic and unique global adventure.</div><div style=\"flex: 2;\">Robert Downey Jr.<br>Chris Hemsworth<br>Mark Ruffalo</div><div style=\"flex: 2;\">Joss Whedon</div></div><div style=\"display: flex; align-items: center; text-align: center; padding: 10px;\"><div style=\"flex: 1;\">4</div><div style=\"flex: 2;\"><img src=\"https://image.tmdb.org/t/p/w500//6WBeq4fCfn7AN0o21W9qNcRF2l9.jpg\" style=\"max-height:150px;\"></div><div style=\"flex: 2;\"><a href=\"https://www.google.com/search?q=Iron Man 2\" target=\"_blank\">Iron Man 2</a></div><div style=\"flex: 8;\">With the world now aware of his dual life as the armored superhero Iron Man, billionaire inventor Tony Stark faces pressure from the government, the press and the public to share his technology with the military. Unwilling to let go of his invention, Stark, with Pepper Potts and James 'Rhodey' Rhodes at his side, must forge new alliances – and confront powerful enemies.</div><div style=\"flex: 2;\">Robert Downey Jr.<br>Gwyneth Paltrow<br>Don Cheadle</div><div style=\"flex: 2;\">Jon Favreau</div></div><div style=\"display: flex; align-items: center; text-align: center; padding: 10px;\"><div style=\"flex: 1;\">5</div><div style=\"flex: 2;\"><img src=\"https://image.tmdb.org/t/p/w500//RYMX2wcKCBAr24UyPD7xwmjaTn.jpg\" style=\"max-height:150px;\"></div><div style=\"flex: 2;\"><a href=\"https://www.google.com/search?q=The Avengers\" target=\"_blank\">The Avengers</a></div><div style=\"flex: 8;\">When an unexpected enemy emerges and threatens global safety and security, Nick Fury, director of the international peacekeeping agency known as S.H.I.E.L.D., finds himself in need of a team to pull the world back from the brink of disaster. Spanning the globe, a daring recruitment effort begins!</div><div style=\"flex: 2;\">Robert Downey Jr.<br>Chris Evans<br>Mark Ruffalo</div><div style=\"flex: 2;\">Joss Whedon</div></div><div style=\"display: flex; align-items: center; text-align: center; padding: 10px;\"><div style=\"flex: 1;\">6</div><div style=\"flex: 2;\"><img src=\"https://image.tmdb.org/t/p/w500//qhPtAc1TKbMPqNvcdXSOn9Bn7hZ.jpg\" style=\"max-height:150px;\"></div><div style=\"flex: 2;\"><a href=\"https://www.google.com/search?q=Iron Man 3\" target=\"_blank\">Iron Man 3</a></div><div style=\"flex: 8;\">When Tony Stark's world is torn apart by a formidable terrorist called the Mandarin, he starts an odyssey of rebuilding and retribution.</div><div style=\"flex: 2;\">Robert Downey Jr.<br>Gwyneth Paltrow<br>Don Cheadle</div><div style=\"flex: 2;\">Shane Black</div></div><div style=\"display: flex; align-items: center; text-align: center; padding: 10px;\"><div style=\"flex: 1;\">7</div><div style=\"flex: 2;\"><img src=\"https://image.tmdb.org/t/p/w500//8YxOIPrabqkQCOKKbuxaz9IcqhO.jpg\" style=\"max-height:150px;\"></div><div style=\"flex: 2;\"><a href=\"https://www.google.com/search?q=Ant-Man\" target=\"_blank\">Ant-Man</a></div><div style=\"flex: 8;\">Armed with the astonishing ability to shrink in scale but increase in strength, master thief Scott Lang must embrace his inner-hero and help his mentor, Doctor Hank Pym, protect the secret behind his spectacular Ant-Man suit from a new generation of towering threats. Against seemingly insurmountable obstacles, Pym and Lang must plan and pull off a heist that will save the world.</div><div style=\"flex: 2;\">Paul Rudd<br>Michael Douglas<br>Evangeline Lilly</div><div style=\"flex: 2;\">Peyton Reed</div></div><div style=\"display: flex; align-items: center; text-align: center; padding: 10px;\"><div style=\"flex: 1;\">8</div><div style=\"flex: 2;\"><img src=\"https://image.tmdb.org/t/p/w500//2mtQwJKVKQrZgTz49Dizb25eOQQ.jpg\" style=\"max-height:150px;\"></div><div style=\"flex: 2;\"><a href=\"https://www.google.com/search?q=X-Men: Apocalypse\" target=\"_blank\">X-Men: Apocalypse</a></div><div style=\"flex: 8;\">After the re-emergence of the world's first mutant, world-destroyer Apocalypse, the X-Men must unite to defeat his extinction level plan.</div><div style=\"flex: 2;\">James Mc Avoy<br>Michael Fassbender<br>Jennifer Lawrence</div><div style=\"flex: 2;\">Bryan Singer</div></div><div style=\"display: flex; align-items: center; text-align: center; padding: 10px;\"><div style=\"flex: 1;\">9</div><div style=\"flex: 2;\"><img src=\"https://image.tmdb.org/t/p/w500//tYfijzolzgoMOtegh1Y7j2Enorg.jpg\" style=\"max-height:150px;\"></div><div style=\"flex: 2;\"><a href=\"https://www.google.com/search?q=X-Men: Days of Future Past\" target=\"_blank\">X-Men: Days of Future Past</a></div><div style=\"flex: 8;\">The ultimate X-Men ensemble fights a war for the survival of the species across two time periods as they join forces with their younger selves in an epic battle that must change the past – to save our future.</div><div style=\"flex: 2;\">Hugh Jackman<br>James Mc Avoy<br>Michael Fassbender</div><div style=\"flex: 2;\">Bryan Singer</div></div><div style=\"display: flex; align-items: center; text-align: center; padding: 10px;\"><div style=\"flex: 1;\">10</div><div style=\"flex: 2;\"><img src=\"https://image.tmdb.org/t/p/w500//wp6OxE4poJ4G7c0U2ZIXasTSMR7.jpg\" style=\"max-height:150px;\"></div><div style=\"flex: 2;\"><a href=\"https://www.google.com/search?q=Thor: The Dark World\" target=\"_blank\">Thor: The Dark World</a></div><div style=\"flex: 8;\">Thor fights to restore order across the cosmos… but an ancient race led by the vengeful Malekith returns to plunge the universe back into darkness. Faced with an enemy that even Odin and Asgard cannot withstand, Thor must embark on his most perilous and personal journey yet, one that will reunite him with Jane Foster and force him to sacrifice everything to save us all.</div><div style=\"flex: 2;\">Chris Hemsworth<br>Natalie Portman<br>Tom Hiddleston</div><div style=\"flex: 2;\">Alan Taylor</div></div>"
      ],
      "text/plain": [
       "<IPython.core.display.HTML object>"
      ]
     },
     "metadata": {},
     "output_type": "display_data"
    }
   ],
   "source": [
    "recommend('Iron Man')"
   ]
  },
  {
   "cell_type": "code",
   "execution_count": null,
   "metadata": {},
   "outputs": [],
   "source": []
  }
 ],
 "metadata": {
  "kernelspec": {
   "display_name": "Python 3",
   "language": "python",
   "name": "python3"
  },
  "language_info": {
   "codemirror_mode": {
    "name": "ipython",
    "version": 3
   },
   "file_extension": ".py",
   "mimetype": "text/x-python",
   "name": "python",
   "nbconvert_exporter": "python",
   "pygments_lexer": "ipython3",
   "version": "3.11.2"
  }
 },
 "nbformat": 4,
 "nbformat_minor": 2
}
