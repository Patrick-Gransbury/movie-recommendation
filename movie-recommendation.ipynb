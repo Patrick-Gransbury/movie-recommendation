{
 "cells": [
  {
   "cell_type": "markdown",
   "metadata": {},
   "source": [
    "# Movie Recommendation"
   ]
  },
  {
   "cell_type": "markdown",
   "metadata": {},
   "source": [
    "### Imports and Data Sets"
   ]
  },
  {
   "cell_type": "code",
   "execution_count": 1,
   "metadata": {},
   "outputs": [
    {
     "name": "stderr",
     "output_type": "stream",
     "text": [
      "[nltk_data] Downloading package stopwords to\n",
      "[nltk_data]     C:\\Users\\grans\\AppData\\Roaming\\nltk_data...\n",
      "[nltk_data]   Package stopwords is already up-to-date!\n"
     ]
    }
   ],
   "source": [
    "import numpy as np\n",
    "import pandas as pd\n",
    "import ast\n",
    "import nltk\n",
    "import re\n",
    "import requests\n",
    "\n",
    "from nltk.corpus import stopwords\n",
    "from sklearn.feature_extraction.text import CountVectorizer\n",
    "from sklearn.metrics.pairwise import cosine_similarity\n",
    "from nltk.stem.porter import PorterStemmer\n",
    "from tabulate import tabulate\n",
    "from IPython.display import display, HTML, Image\n",
    "\n",
    "import nltk\n",
    "nltk.download('stopwords')\n",
    "\n",
    "TMDB_API_KEY = 'a1fe2f0ac92d2dd849674115d68777a5'\n",
    "\n",
    "ps = PorterStemmer()\n",
    "cv = CountVectorizer(max_features = 5000, stop_words = 'english')\n",
    "\n",
    "credits_df = pd.read_csv('credits.csv')\n",
    "movies_df = pd.read_csv('movies.csv')"
   ]
  },
  {
   "cell_type": "code",
   "execution_count": 2,
   "metadata": {},
   "outputs": [],
   "source": [
    "pd.set_option('display.max_columns', None)\n",
    "pd.set_option('display.max_rows', None)"
   ]
  },
  {
   "cell_type": "markdown",
   "metadata": {},
   "source": [
    "### Combine movies and credits df using title as key"
   ]
  },
  {
   "cell_type": "code",
   "execution_count": 3,
   "metadata": {},
   "outputs": [],
   "source": [
    "movies_df = movies_df.merge(credits_df, on='title')\n",
    "movies_df = movies_df[['movie_id', 'title', 'overview', 'genres', 'keywords', 'cast', 'crew', 'popularity']]"
   ]
  },
  {
   "cell_type": "code",
   "execution_count": 4,
   "metadata": {},
   "outputs": [
    {
     "name": "stdout",
     "output_type": "stream",
     "text": [
      "<class 'pandas.core.frame.DataFrame'>\n",
      "RangeIndex: 4808 entries, 0 to 4807\n",
      "Data columns (total 8 columns):\n",
      " #   Column      Non-Null Count  Dtype  \n",
      "---  ------      --------------  -----  \n",
      " 0   movie_id    4808 non-null   int64  \n",
      " 1   title       4808 non-null   object \n",
      " 2   overview    4805 non-null   object \n",
      " 3   genres      4808 non-null   object \n",
      " 4   keywords    4808 non-null   object \n",
      " 5   cast        4808 non-null   object \n",
      " 6   crew        4808 non-null   object \n",
      " 7   popularity  4808 non-null   float64\n",
      "dtypes: float64(1), int64(1), object(6)\n",
      "memory usage: 300.6+ KB\n"
     ]
    }
   ],
   "source": [
    "movies_df.info()"
   ]
  },
  {
   "cell_type": "markdown",
   "metadata": {},
   "source": [
    "### Checking for and removing any empty or duplicated rows "
   ]
  },
  {
   "cell_type": "code",
   "execution_count": 5,
   "metadata": {},
   "outputs": [
    {
     "data": {
      "text/plain": [
       "movie_id      0\n",
       "title         0\n",
       "overview      3\n",
       "genres        0\n",
       "keywords      0\n",
       "cast          0\n",
       "crew          0\n",
       "popularity    0\n",
       "dtype: int64"
      ]
     },
     "execution_count": 5,
     "metadata": {},
     "output_type": "execute_result"
    }
   ],
   "source": [
    "movies_df.isnull().sum()"
   ]
  },
  {
   "cell_type": "code",
   "execution_count": 6,
   "metadata": {},
   "outputs": [],
   "source": [
    "movies_df.dropna(inplace=True)"
   ]
  },
  {
   "cell_type": "code",
   "execution_count": 7,
   "metadata": {},
   "outputs": [
    {
     "data": {
      "text/plain": [
       "0"
      ]
     },
     "execution_count": 7,
     "metadata": {},
     "output_type": "execute_result"
    }
   ],
   "source": [
    "movies_df.duplicated().sum()"
   ]
  },
  {
   "cell_type": "markdown",
   "metadata": {},
   "source": [
    "### Making Genres and Keywords into a readable list"
   ]
  },
  {
   "cell_type": "code",
   "execution_count": 8,
   "metadata": {},
   "outputs": [],
   "source": [
    "def convert_list(obj):\n",
    "    L=[]\n",
    "    for i in ast.literal_eval(obj):\n",
    "        L.append(i['name'])\n",
    "    return L"
   ]
  },
  {
   "cell_type": "markdown",
   "metadata": {},
   "source": [
    "### Fetching the top 3 cast"
   ]
  },
  {
   "cell_type": "code",
   "execution_count": 9,
   "metadata": {},
   "outputs": [],
   "source": [
    "def fetch_lead_actors(obj):\n",
    "    L=[]\n",
    "    counter = 0\n",
    "    for i in ast.literal_eval(obj):\n",
    "        if counter != 3:\n",
    "            L.append(i['name'])\n",
    "            counter += 1\n",
    "        else:\n",
    "            break\n",
    "    return L"
   ]
  },
  {
   "cell_type": "markdown",
   "metadata": {},
   "source": [
    "### Fetching the Director(s)"
   ]
  },
  {
   "cell_type": "code",
   "execution_count": 10,
   "metadata": {},
   "outputs": [],
   "source": [
    "def fetch_director(obj):\n",
    "    L=[]\n",
    "    for i in ast.literal_eval(obj):\n",
    "        if i['job']=='Director':\n",
    "            L.append(i['name'])\n",
    "    return L"
   ]
  },
  {
   "cell_type": "markdown",
   "metadata": {},
   "source": [
    "### Stemming The Overview"
   ]
  },
  {
   "cell_type": "code",
   "execution_count": 11,
   "metadata": {},
   "outputs": [],
   "source": [
    "port_stem = PorterStemmer()\n",
    "\n",
    "def stemming(content):\n",
    "    # Only keeping alphabets in the content \n",
    "    stemmed_content = re.sub('[^a-zA-Z]', ' ', content)\n",
    "    # Removing spaces and converting to lowercase\n",
    "    stemmed_content = stemmed_content.lower()\n",
    "    stemmed_content = stemmed_content.split()\n",
    "    # Stemming the words that are not in stopwords\n",
    "    stemmed_content = [port_stem.stem(word) for word in stemmed_content if not word in stopwords.words('english')]\n",
    "    # Joining the list of words into a string\n",
    "    stemmed_content = ' '.join(stemmed_content)\n",
    "    return stemmed_content"
   ]
  },
  {
   "cell_type": "markdown",
   "metadata": {},
   "source": [
    "### Using the above functions"
   ]
  },
  {
   "cell_type": "code",
   "execution_count": 12,
   "metadata": {},
   "outputs": [],
   "source": [
    "movies_df['overview'] = movies_df['overview'].apply(stemming)\n",
    "movies_df['overview'] = movies_df['overview'].apply(lambda x:x.split())"
   ]
  },
  {
   "cell_type": "code",
   "execution_count": 13,
   "metadata": {},
   "outputs": [],
   "source": [
    "movies_df['genres'] = movies_df['genres'].apply(convert_list)"
   ]
  },
  {
   "cell_type": "code",
   "execution_count": 14,
   "metadata": {},
   "outputs": [],
   "source": [
    "movies_df['keywords'] = movies_df['keywords'].apply(convert_list)"
   ]
  },
  {
   "cell_type": "code",
   "execution_count": 15,
   "metadata": {},
   "outputs": [],
   "source": [
    "movies_df['cast'] = movies_df['cast'].apply(fetch_lead_actors)"
   ]
  },
  {
   "cell_type": "code",
   "execution_count": 16,
   "metadata": {},
   "outputs": [],
   "source": [
    "movies_df['crew'] = movies_df['crew'].apply(fetch_director)"
   ]
  },
  {
   "cell_type": "markdown",
   "metadata": {},
   "source": [
    "### Removes all white space for comparison"
   ]
  },
  {
   "cell_type": "code",
   "execution_count": 17,
   "metadata": {},
   "outputs": [
    {
     "data": {
      "text/html": [
       "<div>\n",
       "<style scoped>\n",
       "    .dataframe tbody tr th:only-of-type {\n",
       "        vertical-align: middle;\n",
       "    }\n",
       "\n",
       "    .dataframe tbody tr th {\n",
       "        vertical-align: top;\n",
       "    }\n",
       "\n",
       "    .dataframe thead th {\n",
       "        text-align: right;\n",
       "    }\n",
       "</style>\n",
       "<table border=\"1\" class=\"dataframe\">\n",
       "  <thead>\n",
       "    <tr style=\"text-align: right;\">\n",
       "      <th></th>\n",
       "      <th>movie_id</th>\n",
       "      <th>title</th>\n",
       "      <th>overview</th>\n",
       "      <th>genres</th>\n",
       "      <th>keywords</th>\n",
       "      <th>cast</th>\n",
       "      <th>crew</th>\n",
       "      <th>popularity</th>\n",
       "    </tr>\n",
       "  </thead>\n",
       "  <tbody>\n",
       "    <tr>\n",
       "      <th>0</th>\n",
       "      <td>19995</td>\n",
       "      <td>Avatar</td>\n",
       "      <td>[nd, centuri, parapleg, marin, dispatch, moon,...</td>\n",
       "      <td>[Action, Adventure, Fantasy, ScienceFiction]</td>\n",
       "      <td>[cultureclash, future, spacewar, spacecolony, ...</td>\n",
       "      <td>[SamWorthington, ZoeSaldana, SigourneyWeaver]</td>\n",
       "      <td>[JamesCameron]</td>\n",
       "      <td>150.437577</td>\n",
       "    </tr>\n",
       "    <tr>\n",
       "      <th>1</th>\n",
       "      <td>285</td>\n",
       "      <td>Pirates of the Caribbean: At World's End</td>\n",
       "      <td>[captain, barbossa, long, believ, dead, come, ...</td>\n",
       "      <td>[Adventure, Fantasy, Action]</td>\n",
       "      <td>[ocean, drugabuse, exoticisland, eastindiatrad...</td>\n",
       "      <td>[JohnnyDepp, OrlandoBloom, KeiraKnightley]</td>\n",
       "      <td>[GoreVerbinski]</td>\n",
       "      <td>139.082615</td>\n",
       "    </tr>\n",
       "    <tr>\n",
       "      <th>2</th>\n",
       "      <td>206647</td>\n",
       "      <td>Spectre</td>\n",
       "      <td>[cryptic, messag, bond, past, send, trail, unc...</td>\n",
       "      <td>[Action, Adventure, Crime]</td>\n",
       "      <td>[spy, basedonnovel, secretagent, sequel, mi6, ...</td>\n",
       "      <td>[DanielCraig, ChristophWaltz, LéaSeydoux]</td>\n",
       "      <td>[SamMendes]</td>\n",
       "      <td>107.376788</td>\n",
       "    </tr>\n",
       "    <tr>\n",
       "      <th>3</th>\n",
       "      <td>49026</td>\n",
       "      <td>The Dark Knight Rises</td>\n",
       "      <td>[follow, death, district, attorney, harvey, de...</td>\n",
       "      <td>[Action, Crime, Drama, Thriller]</td>\n",
       "      <td>[dccomics, crimefighter, terrorist, secretiden...</td>\n",
       "      <td>[ChristianBale, MichaelCaine, GaryOldman]</td>\n",
       "      <td>[ChristopherNolan]</td>\n",
       "      <td>112.312950</td>\n",
       "    </tr>\n",
       "    <tr>\n",
       "      <th>4</th>\n",
       "      <td>49529</td>\n",
       "      <td>John Carter</td>\n",
       "      <td>[john, carter, war, weari, former, militari, c...</td>\n",
       "      <td>[Action, Adventure, ScienceFiction]</td>\n",
       "      <td>[basedonnovel, mars, medallion, spacetravel, p...</td>\n",
       "      <td>[TaylorKitsch, LynnCollins, SamanthaMorton]</td>\n",
       "      <td>[AndrewStanton]</td>\n",
       "      <td>43.926995</td>\n",
       "    </tr>\n",
       "  </tbody>\n",
       "</table>\n",
       "</div>"
      ],
      "text/plain": [
       "   movie_id                                     title   \n",
       "0     19995                                    Avatar  \\\n",
       "1       285  Pirates of the Caribbean: At World's End   \n",
       "2    206647                                   Spectre   \n",
       "3     49026                     The Dark Knight Rises   \n",
       "4     49529                               John Carter   \n",
       "\n",
       "                                            overview   \n",
       "0  [nd, centuri, parapleg, marin, dispatch, moon,...  \\\n",
       "1  [captain, barbossa, long, believ, dead, come, ...   \n",
       "2  [cryptic, messag, bond, past, send, trail, unc...   \n",
       "3  [follow, death, district, attorney, harvey, de...   \n",
       "4  [john, carter, war, weari, former, militari, c...   \n",
       "\n",
       "                                         genres   \n",
       "0  [Action, Adventure, Fantasy, ScienceFiction]  \\\n",
       "1                  [Adventure, Fantasy, Action]   \n",
       "2                    [Action, Adventure, Crime]   \n",
       "3              [Action, Crime, Drama, Thriller]   \n",
       "4           [Action, Adventure, ScienceFiction]   \n",
       "\n",
       "                                            keywords   \n",
       "0  [cultureclash, future, spacewar, spacecolony, ...  \\\n",
       "1  [ocean, drugabuse, exoticisland, eastindiatrad...   \n",
       "2  [spy, basedonnovel, secretagent, sequel, mi6, ...   \n",
       "3  [dccomics, crimefighter, terrorist, secretiden...   \n",
       "4  [basedonnovel, mars, medallion, spacetravel, p...   \n",
       "\n",
       "                                            cast                crew   \n",
       "0  [SamWorthington, ZoeSaldana, SigourneyWeaver]      [JamesCameron]  \\\n",
       "1     [JohnnyDepp, OrlandoBloom, KeiraKnightley]     [GoreVerbinski]   \n",
       "2      [DanielCraig, ChristophWaltz, LéaSeydoux]         [SamMendes]   \n",
       "3      [ChristianBale, MichaelCaine, GaryOldman]  [ChristopherNolan]   \n",
       "4    [TaylorKitsch, LynnCollins, SamanthaMorton]     [AndrewStanton]   \n",
       "\n",
       "   popularity  \n",
       "0  150.437577  \n",
       "1  139.082615  \n",
       "2  107.376788  \n",
       "3  112.312950  \n",
       "4   43.926995  "
      ]
     },
     "execution_count": 17,
     "metadata": {},
     "output_type": "execute_result"
    }
   ],
   "source": [
    "movies_df['genres'] = movies_df['genres'].apply(lambda x:[i.replace(\" \",\"\") for i in x])\n",
    "movies_df['keywords'] = movies_df['keywords'].apply(lambda x:[i.replace(\" \",\"\") for i in x])\n",
    "movies_df['cast'] = movies_df['cast'].apply(lambda x:[i.replace(\" \",\"\") for i in x])\n",
    "movies_df['crew'] = movies_df['crew'].apply(lambda x:[i.replace(\" \",\"\") for i in x])\n",
    "\n",
    "movies_df.head()"
   ]
  },
  {
   "cell_type": "markdown",
   "metadata": {},
   "source": [
    "### New column with combined, overview, genres, keywords, cast and crew"
   ]
  },
  {
   "cell_type": "code",
   "execution_count": 18,
   "metadata": {},
   "outputs": [],
   "source": [
    "movies_df['tags'] = movies_df['overview'] + movies_df['genres'] + movies_df['keywords'] + movies_df['cast'] + movies_df['crew']"
   ]
  },
  {
   "cell_type": "markdown",
   "metadata": {},
   "source": [
    "### New dataframe with 3 headers"
   ]
  },
  {
   "cell_type": "code",
   "execution_count": 19,
   "metadata": {},
   "outputs": [],
   "source": [
    "movies = movies_df[['movie_id', 'title', 'tags']]"
   ]
  },
  {
   "cell_type": "markdown",
   "metadata": {},
   "source": [
    "###### Turns into a string rather than a list"
   ]
  },
  {
   "cell_type": "code",
   "execution_count": 20,
   "metadata": {},
   "outputs": [
    {
     "name": "stderr",
     "output_type": "stream",
     "text": [
      "C:\\Users\\grans\\AppData\\Local\\Temp\\ipykernel_34324\\2816021526.py:1: SettingWithCopyWarning: \n",
      "A value is trying to be set on a copy of a slice from a DataFrame.\n",
      "Try using .loc[row_indexer,col_indexer] = value instead\n",
      "\n",
      "See the caveats in the documentation: https://pandas.pydata.org/pandas-docs/stable/user_guide/indexing.html#returning-a-view-versus-a-copy\n",
      "  movies['tags'] = movies['tags'].apply(lambda x:' '.join(x))\n"
     ]
    }
   ],
   "source": [
    "movies['tags'] = movies['tags'].apply(lambda x:' '.join(x))"
   ]
  },
  {
   "cell_type": "code",
   "execution_count": 21,
   "metadata": {},
   "outputs": [
    {
     "data": {
      "text/html": [
       "<div>\n",
       "<style scoped>\n",
       "    .dataframe tbody tr th:only-of-type {\n",
       "        vertical-align: middle;\n",
       "    }\n",
       "\n",
       "    .dataframe tbody tr th {\n",
       "        vertical-align: top;\n",
       "    }\n",
       "\n",
       "    .dataframe thead th {\n",
       "        text-align: right;\n",
       "    }\n",
       "</style>\n",
       "<table border=\"1\" class=\"dataframe\">\n",
       "  <thead>\n",
       "    <tr style=\"text-align: right;\">\n",
       "      <th></th>\n",
       "      <th>movie_id</th>\n",
       "      <th>title</th>\n",
       "      <th>tags</th>\n",
       "    </tr>\n",
       "  </thead>\n",
       "  <tbody>\n",
       "    <tr>\n",
       "      <th>0</th>\n",
       "      <td>19995</td>\n",
       "      <td>Avatar</td>\n",
       "      <td>nd centuri parapleg marin dispatch moon pandor...</td>\n",
       "    </tr>\n",
       "    <tr>\n",
       "      <th>1</th>\n",
       "      <td>285</td>\n",
       "      <td>Pirates of the Caribbean: At World's End</td>\n",
       "      <td>captain barbossa long believ dead come back li...</td>\n",
       "    </tr>\n",
       "    <tr>\n",
       "      <th>2</th>\n",
       "      <td>206647</td>\n",
       "      <td>Spectre</td>\n",
       "      <td>cryptic messag bond past send trail uncov sini...</td>\n",
       "    </tr>\n",
       "    <tr>\n",
       "      <th>3</th>\n",
       "      <td>49026</td>\n",
       "      <td>The Dark Knight Rises</td>\n",
       "      <td>follow death district attorney harvey dent bat...</td>\n",
       "    </tr>\n",
       "    <tr>\n",
       "      <th>4</th>\n",
       "      <td>49529</td>\n",
       "      <td>John Carter</td>\n",
       "      <td>john carter war weari former militari captain ...</td>\n",
       "    </tr>\n",
       "  </tbody>\n",
       "</table>\n",
       "</div>"
      ],
      "text/plain": [
       "   movie_id                                     title   \n",
       "0     19995                                    Avatar  \\\n",
       "1       285  Pirates of the Caribbean: At World's End   \n",
       "2    206647                                   Spectre   \n",
       "3     49026                     The Dark Knight Rises   \n",
       "4     49529                               John Carter   \n",
       "\n",
       "                                                tags  \n",
       "0  nd centuri parapleg marin dispatch moon pandor...  \n",
       "1  captain barbossa long believ dead come back li...  \n",
       "2  cryptic messag bond past send trail uncov sini...  \n",
       "3  follow death district attorney harvey dent bat...  \n",
       "4  john carter war weari former militari captain ...  "
      ]
     },
     "execution_count": 21,
     "metadata": {},
     "output_type": "execute_result"
    }
   ],
   "source": [
    "movies.head()"
   ]
  },
  {
   "cell_type": "code",
   "execution_count": 22,
   "metadata": {},
   "outputs": [
    {
     "name": "stderr",
     "output_type": "stream",
     "text": [
      "C:\\Users\\grans\\AppData\\Local\\Temp\\ipykernel_34324\\1170348455.py:1: SettingWithCopyWarning: \n",
      "A value is trying to be set on a copy of a slice from a DataFrame.\n",
      "Try using .loc[row_indexer,col_indexer] = value instead\n",
      "\n",
      "See the caveats in the documentation: https://pandas.pydata.org/pandas-docs/stable/user_guide/indexing.html#returning-a-view-versus-a-copy\n",
      "  movies['tags'] = movies['tags'].apply(lambda x:x.lower())\n"
     ]
    }
   ],
   "source": [
    "movies['tags'] = movies['tags'].apply(lambda x:x.lower())"
   ]
  },
  {
   "cell_type": "code",
   "execution_count": 23,
   "metadata": {},
   "outputs": [
    {
     "data": {
      "text/plain": [
       "5000"
      ]
     },
     "execution_count": 23,
     "metadata": {},
     "output_type": "execute_result"
    }
   ],
   "source": [
    "vectors = cv.fit_transform(movies['tags']).toarray()\n",
    "len(cv.get_feature_names_out())"
   ]
  },
  {
   "cell_type": "markdown",
   "metadata": {},
   "source": [
    "### Uses ps (automatic NLP)"
   ]
  },
  {
   "cell_type": "code",
   "execution_count": 24,
   "metadata": {},
   "outputs": [],
   "source": [
    "def stem(text):\n",
    "    y=[]\n",
    "    for i in text.split():\n",
    "        y.append(ps.stem(i))\n",
    "    return \" \".join(y)"
   ]
  },
  {
   "cell_type": "code",
   "execution_count": 25,
   "metadata": {},
   "outputs": [
    {
     "name": "stderr",
     "output_type": "stream",
     "text": [
      "C:\\Users\\grans\\AppData\\Local\\Temp\\ipykernel_34324\\3456099318.py:1: SettingWithCopyWarning: \n",
      "A value is trying to be set on a copy of a slice from a DataFrame.\n",
      "Try using .loc[row_indexer,col_indexer] = value instead\n",
      "\n",
      "See the caveats in the documentation: https://pandas.pydata.org/pandas-docs/stable/user_guide/indexing.html#returning-a-view-versus-a-copy\n",
      "  movies['tags'] = movies['tags'].apply(stem)\n"
     ]
    }
   ],
   "source": [
    "movies['tags'] = movies['tags'].apply(stem)"
   ]
  },
  {
   "cell_type": "code",
   "execution_count": 26,
   "metadata": {},
   "outputs": [],
   "source": [
    "similarity = cosine_similarity(vectors)"
   ]
  },
  {
   "cell_type": "code",
   "execution_count": 27,
   "metadata": {},
   "outputs": [
    {
     "data": {
      "text/plain": [
       "[(2409, 0.25993762245501817),\n",
       " (539, 0.25756371316446414),\n",
       " (507, 0.25683510148361705),\n",
       " (1216, 0.2453498730314736),\n",
       " (1204, 0.24507154069793594),\n",
       " (778, 0.23728949893812473),\n",
       " (1920, 0.23394386020951635),\n",
       " (1831, 0.2256354947537551),\n",
       " (91, 0.22230800575069137),\n",
       " (61, 0.22147019900891643)]"
      ]
     },
     "execution_count": 27,
     "metadata": {},
     "output_type": "execute_result"
    }
   ],
   "source": [
    "sorted(list(enumerate(similarity[0])), reverse=True, key=lambda x:x[1])[1:11]"
   ]
  },
  {
   "cell_type": "code",
   "execution_count": 28,
   "metadata": {},
   "outputs": [],
   "source": [
    "def split_names(name):\n",
    "    \n",
    "    return re.sub(r'([a-z])([A-Z])', r'\\1 \\2', name)"
   ]
  },
  {
   "cell_type": "code",
   "execution_count": 29,
   "metadata": {},
   "outputs": [],
   "source": [
    "def fetch_poster_path(movie_id):\n",
    "    url = f'https://api.themoviedb.org/3/movie/{movie_id}?api_key={TMDB_API_KEY}&language=en-US'\n",
    "    try:\n",
    "        response = requests.get(url)\n",
    "        response.raise_for_status()  # Raise an exception for HTTP errors\n",
    "        data = response.json()\n",
    "        poster_path = data.get('poster_path')\n",
    "        if poster_path:\n",
    "            return f'https://image.tmdb.org/t/p/w500/{poster_path}'\n",
    "    except requests.exceptions.RequestException as e:\n",
    "        print(f\"Error fetching poster for movie ID {movie_id}: {e}\")\n",
    "    return None"
   ]
  },
  {
   "cell_type": "code",
   "execution_count": 30,
   "metadata": {},
   "outputs": [],
   "source": [
    "def get_poster_html(movie_id):\n",
    "    poster_path = fetch_poster_path(movie_id)\n",
    "    if poster_path:\n",
    "        return f'<img src=\"{poster_path}\" style=\"max-height:150px;\">'\n",
    "    else:\n",
    "        return ''"
   ]
  },
  {
   "cell_type": "code",
   "execution_count": 31,
   "metadata": {},
   "outputs": [],
   "source": [
    "def get_movie_link_html(title):\n",
    "    google_search_link = f'https://www.google.com/search?q={title}'\n",
    "    return f'<a href=\"{google_search_link}\" target=\"_blank\">{title}</a>'"
   ]
  },
  {
   "cell_type": "code",
   "execution_count": 63,
   "metadata": {},
   "outputs": [],
   "source": [
    "def recommend(movie):\n",
    "    movie_index = movies[movies['title'] == movie].index[0]\n",
    "    distances = similarity[movie_index]\n",
    "    movies_list = sorted(list(enumerate(distances)), reverse=True, key=lambda x: x[1])[1:26]\n",
    "    \n",
    "    # Create a dictionary to store the combined scores (similarity + popularity_weight * popularity)\n",
    "    combined_scores = {}\n",
    "\n",
    "    for i in movies_list:\n",
    "        index = i[0]\n",
    "        \n",
    "        # Define your weights\n",
    "        popularity_weight = 0.002\n",
    "        similarity_weight = 1-popularity_weight\n",
    "\n",
    "        # Calculate the combined score\n",
    "        combined_score = (similarity_weight * i[1]) + (popularity_weight * movies_df.iloc[index].popularity)\n",
    "\n",
    "        combined_scores[index] = combined_score\n",
    "\n",
    "    # Sort the dictionary by combined scores in descending order\n",
    "    \n",
    "    sorted_combined_scores = sorted(combined_scores.items(), key=lambda x: x[1], reverse=True)\n",
    "\n",
    "    # Get the top 10 movies based on the combined scores\n",
    "    movies_final_list = sorted_combined_scores[:10]\n",
    "\n",
    "    # Create an empty HTML string to accumulate the content\n",
    "    html_content = ''\n",
    "\n",
    "    # Add column headers\n",
    "    headers_html = '<div style=\"display: flex; align-items: center; font-weight: bold; text-align: center; padding: 10px;\">'\n",
    "    headers_html += '<div style=\"flex: 1;\">Number</div>'\n",
    "    headers_html += '<div style=\"flex: 2;\">Poster</div>'\n",
    "    headers_html += '<div style=\"flex: 2;\">Movie Title</div>'\n",
    "    headers_html += '<div style=\"flex: 8;\">Overview</div>'\n",
    "    headers_html += '<div style=\"flex: 2;\">Cast</div>'\n",
    "    headers_html += '<div style=\"flex: 2;\">Crew</div>'\n",
    "    headers_html += '</div>'\n",
    "    html_content += headers_html\n",
    "\n",
    "    for counter, i in enumerate(movies_final_list, start=1):\n",
    "        title = movies_df.iloc[i[0]].title\n",
    "        overview = ' '.join(movies_df.iloc[i[0]].overview)\n",
    "        cast = split_names('<br>'.join(movies_df.iloc[i[0]].cast))\n",
    "        crew = split_names('<br>'.join(movies_df.iloc[i[0]].crew))\n",
    "        movie_id = movies_df.iloc[i[0]].movie_id\n",
    "\n",
    "        # Get HTML for the poster image\n",
    "        poster_html = get_poster_html(movie_id)\n",
    "        \n",
    "        # Get clickable link HTML for the movie title\n",
    "        movie_title_link_html = get_movie_link_html(title)\n",
    "\n",
    "        # Build the row HTML\n",
    "        row_html = '<div style=\"display: flex; align-items: center; text-align: center; padding: 10px;\">'\n",
    "        row_html += f'<div style=\"flex: 1;\">{counter}</div>'\n",
    "        row_html += f'<div style=\"flex: 2;\">{poster_html}</div>'\n",
    "        row_html += f'<div style=\"flex: 2;\">{movie_title_link_html}</div>'\n",
    "        row_html += f'<div style=\"flex: 8;\">{overview}</div>'\n",
    "        row_html += f'<div style=\"flex: 2;\">{cast}</div>'\n",
    "        row_html += f'<div style=\"flex: 2;\">{crew}</div>'\n",
    "        row_html += '</div>'\n",
    "\n",
    "        # Append the row HTML to the content\n",
    "        html_content += row_html\n",
    "\n",
    "    # Display the accumulated HTML content\n",
    "    display(HTML(html_content))"
   ]
  },
  {
   "cell_type": "code",
   "execution_count": 65,
   "metadata": {},
   "outputs": [
    {
     "data": {
      "text/html": [
       "<div style=\"display: flex; align-items: center; font-weight: bold; text-align: center; padding: 10px;\"><div style=\"flex: 1;\">Number</div><div style=\"flex: 2;\">Poster</div><div style=\"flex: 2;\">Movie Title</div><div style=\"flex: 8;\">Overview</div><div style=\"flex: 2;\">Cast</div><div style=\"flex: 2;\">Crew</div></div><div style=\"display: flex; align-items: center; text-align: center; padding: 10px;\"><div style=\"flex: 1;\">1</div><div style=\"flex: 2;\"><img src=\"https://image.tmdb.org/t/p/w500//keGfSvCmYj7CvdRx36OdVrAEibE.jpg\" style=\"max-height:150px;\"></div><div style=\"flex: 2;\"><a href=\"https://www.google.com/search?q=Pirates of the Caribbean: On Stranger Tides\" target=\"_blank\">Pirates of the Caribbean: On Stranger Tides</a></div><div style=\"flex: 8;\">captain jack sparrow cross path woman past sure love ruthless con artist use find fabl fountain youth forc aboard queen ann reveng ship formid pirat blackbeard jack find unexpect adventur know fear blackbeard woman past</div><div style=\"flex: 2;\">Johnny Depp<br>Penélope Cruz<br>Ian Mc Shane</div><div style=\"flex: 2;\">Rob Marshall</div></div><div style=\"display: flex; align-items: center; text-align: center; padding: 10px;\"><div style=\"flex: 1;\">2</div><div style=\"flex: 2;\"><img src=\"https://image.tmdb.org/t/p/w500//rNzQyW4f8B8cQeg7Dgj3n6eT5k9.jpg\" style=\"max-height:150px;\"></div><div style=\"flex: 2;\"><a href=\"https://www.google.com/search?q=The Notebook\" target=\"_blank\">The Notebook</a></div><div style=\"flex: 8;\">epic love stori center around older man read aloud woman alzheim fade notebook old man word bring life stori coupl separ world war ii passion reunit seven year later taken differ path</div><div style=\"flex: 2;\">Rachel Mc Adams<br>Ryan Gosling<br>Gena Rowlands</div><div style=\"flex: 2;\">Nick Cassavetes</div></div><div style=\"display: flex; align-items: center; text-align: center; padding: 10px;\"><div style=\"flex: 1;\">3</div><div style=\"flex: 2;\"><img src=\"https://image.tmdb.org/t/p/w500//vjsEi2JytAT76qrtUHPIhXExZAm.jpg\" style=\"max-height:150px;\"></div><div style=\"flex: 2;\"><a href=\"https://www.google.com/search?q=Captain Phillips\" target=\"_blank\">Captain Phillips</a></div><div style=\"flex: 8;\">true stori captain richard phillip hijack somali pirat us flag mv maersk alabama first american cargo ship hijack two hundr year</div><div style=\"flex: 2;\">Tom Hanks<br>Catherine Keener<br>Max Martini</div><div style=\"flex: 2;\">Paul Greengrass</div></div><div style=\"display: flex; align-items: center; text-align: center; padding: 10px;\"><div style=\"flex: 1;\">4</div><div style=\"flex: 2;\"><img src=\"https://image.tmdb.org/t/p/w500//MbILysGhjAbnZi1Okae9wYqLMx.jpg\" style=\"max-height:150px;\"></div><div style=\"flex: 2;\"><a href=\"https://www.google.com/search?q=The Age of Adaline\" target=\"_blank\">The Age of Adaline</a></div><div style=\"flex: 8;\">year old adalin recov nearli lethal accid inexplic stop grow older year stretch adalin keep secret meet man chang life</div><div style=\"flex: 2;\">Blake Lively<br>Michiel Huisman<br>Harrison Ford</div><div style=\"flex: 2;\">Lee Toland Krieger</div></div><div style=\"display: flex; align-items: center; text-align: center; padding: 10px;\"><div style=\"flex: 1;\">5</div><div style=\"flex: 2;\"><img src=\"https://image.tmdb.org/t/p/w500//hbhFnRzzg6ZDmm8YAmxBnQpQIPh.jpg\" style=\"max-height:150px;\"></div><div style=\"flex: 2;\"><a href=\"https://www.google.com/search?q=WALL·E\" target=\"_blank\">WALL·E</a></div><div style=\"flex: 8;\">wall e last robot left earth overrun garbag human fled outer space year continu tri clean mess develop rather interest human like qualiti ship arriv sleek new type robot wall e think final found friend stow away ship leav</div><div style=\"flex: 2;\">Ben Burtt<br>Elissa Knight<br>Jeff Garlin</div><div style=\"flex: 2;\">Andrew Stanton</div></div><div style=\"display: flex; align-items: center; text-align: center; padding: 10px;\"><div style=\"flex: 1;\">6</div><div style=\"flex: 2;\"><img src=\"https://image.tmdb.org/t/p/w500//weVvNPfk6FM9vBg3BXtRtNAmiYM.jpg\" style=\"max-height:150px;\"></div><div style=\"flex: 2;\"><a href=\"https://www.google.com/search?q=In the Heart of the Sea\" target=\"_blank\">In the Heart of the Sea</a></div><div style=\"flex: 8;\">winter new england whale ship essex assault someth one could believ whale mammoth size almost human sens vengeanc real life maritim disast would inspir herman melvil mobi dick told half stori heart sea reveal encount harrow aftermath ship surviv crew push limit forc unthink stay aliv brave storm starvat panic despair men call question deepest belief valu live moral trade captain search direct open sea first mate still seek bring great whale</div><div style=\"flex: 2;\">Chris Hemsworth<br>Benjamin Walker<br>Cillian Murphy</div><div style=\"flex: 2;\">Ron Howard</div></div><div style=\"display: flex; align-items: center; text-align: center; padding: 10px;\"><div style=\"flex: 1;\">7</div><div style=\"flex: 2;\"><img src=\"https://image.tmdb.org/t/p/w500//qT9jhRnf67dmMNpX2FmNPMeuW57.jpg\" style=\"max-height:150px;\"></div><div style=\"flex: 2;\"><a href=\"https://www.google.com/search?q=Ghost Ship\" target=\"_blank\">Ghost Ship</a></div><div style=\"flex: 8;\">discov passeng ship miss sinc float adrift bere sea salvag claim vessel begin tow ghost ship toward harbor seri bizarr occurr happen group becom trap insid ship soon learn inhabit demon creatur</div><div style=\"flex: 2;\">Gabriel Byrne<br>Julianna Margulies<br>Desmond Harrington</div><div style=\"flex: 2;\">Steve Beck</div></div><div style=\"display: flex; align-items: center; text-align: center; padding: 10px;\"><div style=\"flex: 1;\">8</div><div style=\"flex: 2;\"><img src=\"https://image.tmdb.org/t/p/w500//2BvtvDUyxiMJ4dmKfiQf4qdOHQN.jpg\" style=\"max-height:150px;\"></div><div style=\"flex: 2;\"><a href=\"https://www.google.com/search?q=Boyhood\" target=\"_blank\">Boyhood</a></div><div style=\"flex: 8;\">film tell stori divorc coupl tri rais young son stori follow boy twelv year first grade age th grade age examin relationship parent grow</div><div style=\"flex: 2;\">Ellar Coltrane<br>Patricia Arquette<br>Ethan Hawke</div><div style=\"flex: 2;\">Richard Linklater</div></div><div style=\"display: flex; align-items: center; text-align: center; padding: 10px;\"><div style=\"flex: 1;\">9</div><div style=\"flex: 2;\"><img src=\"https://image.tmdb.org/t/p/w500//1ma5b9XLCziCHzQP0Zy1Y1PqNyM.jpg\" style=\"max-height:150px;\"></div><div style=\"flex: 2;\"><a href=\"https://www.google.com/search?q=Poseidon\" target=\"_blank\">Poseidon</a></div><div style=\"flex: 8;\">pack cruis ship travel atlant hit overturn massiv wave compel passeng begin dramat fight live</div><div style=\"flex: 2;\">Kurt Russell<br>Richard Dreyfuss<br>Josh Lucas</div><div style=\"flex: 2;\">Wolfgang Petersen</div></div><div style=\"display: flex; align-items: center; text-align: center; padding: 10px;\"><div style=\"flex: 1;\">10</div><div style=\"flex: 2;\"><img src=\"https://image.tmdb.org/t/p/w500//lQZpZHLafAfYwogCF23lnfPQmIh.jpg\" style=\"max-height:150px;\"></div><div style=\"flex: 2;\"><a href=\"https://www.google.com/search?q=The Switch\" target=\"_blank\">The Switch</a></div><div style=\"flex: 8;\">unmarri year old woman turn turkey baster order becom pregnant seven year later reunit best friend live secret replac prefer sperm sampl</div><div style=\"flex: 2;\">Jason Bateman<br>Jennifer Aniston<br>Jeff Goldblum</div><div style=\"flex: 2;\">Josh Gordon<br>Will Speck</div></div>"
      ],
      "text/plain": [
       "<IPython.core.display.HTML object>"
      ]
     },
     "metadata": {},
     "output_type": "display_data"
    }
   ],
   "source": [
    "recommend(\"Titanic\")"
   ]
  }
 ],
 "metadata": {
  "kernelspec": {
   "display_name": "Python 3",
   "language": "python",
   "name": "python3"
  },
  "language_info": {
   "codemirror_mode": {
    "name": "ipython",
    "version": 3
   },
   "file_extension": ".py",
   "mimetype": "text/x-python",
   "name": "python",
   "nbconvert_exporter": "python",
   "pygments_lexer": "ipython3",
   "version": "3.11.2"
  }
 },
 "nbformat": 4,
 "nbformat_minor": 2
}
