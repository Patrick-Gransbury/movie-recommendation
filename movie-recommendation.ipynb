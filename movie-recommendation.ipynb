{
 "cells": [
  {
   "cell_type": "markdown",
   "metadata": {},
   "source": [
    "# Movie Recommendation"
   ]
  },
  {
   "cell_type": "markdown",
   "metadata": {},
   "source": [
    "### Imports and Data Sets"
   ]
  },
  {
   "cell_type": "code",
   "execution_count": 268,
   "metadata": {},
   "outputs": [
    {
     "name": "stderr",
     "output_type": "stream",
     "text": [
      "[nltk_data] Downloading package stopwords to\n",
      "[nltk_data]     C:\\Users\\grans\\AppData\\Roaming\\nltk_data...\n",
      "[nltk_data]   Package stopwords is already up-to-date!\n"
     ]
    }
   ],
   "source": [
    "import numpy as np\n",
    "import pandas as pd\n",
    "import ast\n",
    "import nltk\n",
    "import re\n",
    "import matplotlib.pyplot as plt\n",
    "import requests\n",
    "\n",
    "from nltk.corpus import stopwords\n",
    "from sklearn.feature_extraction.text import CountVectorizer\n",
    "from sklearn.metrics.pairwise import cosine_similarity\n",
    "from sklearn.preprocessing import MinMaxScaler\n",
    "from nltk.stem.porter import PorterStemmer\n",
    "from tabulate import tabulate\n",
    "from IPython.display import display, HTML, Image\n",
    "\n",
    "import nltk\n",
    "nltk.download('stopwords')\n",
    "\n",
    "TMDB_API_KEY = 'a1fe2f0ac92d2dd849674115d68777a5'\n",
    "# IMDB_API_KEY = '4ab406f9'\n",
    "\n",
    "ps = PorterStemmer()\n",
    "cv = CountVectorizer(max_features = 5000, stop_words = 'english')\n",
    "scaler = MinMaxScaler()\n",
    "\n",
    "credits_df = pd.read_csv('credits.csv')\n",
    "movies_df = pd.read_csv('movies.csv')"
   ]
  },
  {
   "cell_type": "code",
   "execution_count": null,
   "metadata": {},
   "outputs": [],
   "source": [
    "pd.set_option('display.max_columns', None)\n",
    "pd.set_option('display.max_rows', None)"
   ]
  },
  {
   "cell_type": "markdown",
   "metadata": {},
   "source": [
    "### Combine movies and credits df using title as key"
   ]
  },
  {
   "cell_type": "code",
   "execution_count": 270,
   "metadata": {},
   "outputs": [],
   "source": [
    "movies_df = movies_df.merge(credits_df, on='title')\n",
    "movies_df = movies_df[['movie_id', 'title', 'overview', 'genres', 'keywords', 'cast', 'crew', 'popularity']]"
   ]
  },
  {
   "cell_type": "code",
   "execution_count": 271,
   "metadata": {},
   "outputs": [
    {
     "name": "stdout",
     "output_type": "stream",
     "text": [
      "<class 'pandas.core.frame.DataFrame'>\n",
      "Int64Index: 4808 entries, 0 to 4807\n",
      "Data columns (total 8 columns):\n",
      " #   Column      Non-Null Count  Dtype  \n",
      "---  ------      --------------  -----  \n",
      " 0   movie_id    4808 non-null   int64  \n",
      " 1   title       4808 non-null   object \n",
      " 2   overview    4805 non-null   object \n",
      " 3   genres      4808 non-null   object \n",
      " 4   keywords    4808 non-null   object \n",
      " 5   cast        4808 non-null   object \n",
      " 6   crew        4808 non-null   object \n",
      " 7   popularity  4808 non-null   float64\n",
      "dtypes: float64(1), int64(1), object(6)\n",
      "memory usage: 338.1+ KB\n"
     ]
    }
   ],
   "source": [
    "movies_df.info()"
   ]
  },
  {
   "cell_type": "markdown",
   "metadata": {},
   "source": [
    "### Checking for and removing any empty or duplicated rows "
   ]
  },
  {
   "cell_type": "code",
   "execution_count": 272,
   "metadata": {},
   "outputs": [
    {
     "data": {
      "text/plain": [
       "movie_id      0\n",
       "title         0\n",
       "overview      3\n",
       "genres        0\n",
       "keywords      0\n",
       "cast          0\n",
       "crew          0\n",
       "popularity    0\n",
       "dtype: int64"
      ]
     },
     "execution_count": 272,
     "metadata": {},
     "output_type": "execute_result"
    }
   ],
   "source": [
    "movies_df.isnull().sum()"
   ]
  },
  {
   "cell_type": "code",
   "execution_count": 273,
   "metadata": {},
   "outputs": [],
   "source": [
    "movies_df.dropna(inplace=True)"
   ]
  },
  {
   "cell_type": "code",
   "execution_count": 274,
   "metadata": {},
   "outputs": [
    {
     "data": {
      "text/plain": [
       "0"
      ]
     },
     "execution_count": 274,
     "metadata": {},
     "output_type": "execute_result"
    }
   ],
   "source": [
    "movies_df.duplicated().sum()"
   ]
  },
  {
   "cell_type": "code",
   "execution_count": 275,
   "metadata": {},
   "outputs": [],
   "source": [
    "movies_call_df = movies_df.copy()"
   ]
  },
  {
   "cell_type": "markdown",
   "metadata": {},
   "source": [
    "### Making Genres and Keywords into a readable list"
   ]
  },
  {
   "cell_type": "code",
   "execution_count": 276,
   "metadata": {},
   "outputs": [],
   "source": [
    "def convert_list(obj):\n",
    "    L=[]\n",
    "    for i in ast.literal_eval(obj):\n",
    "        L.append(i['name'])\n",
    "    return L"
   ]
  },
  {
   "cell_type": "markdown",
   "metadata": {},
   "source": [
    "### Fetching the top 3 cast"
   ]
  },
  {
   "cell_type": "code",
   "execution_count": 277,
   "metadata": {},
   "outputs": [],
   "source": [
    "def fetch_lead_actors(obj):\n",
    "    L=[]\n",
    "    counter = 0\n",
    "    for i in ast.literal_eval(obj):\n",
    "        if counter != 3:\n",
    "            L.append(i['name'])\n",
    "            counter += 1\n",
    "        else:\n",
    "            break\n",
    "    return L"
   ]
  },
  {
   "cell_type": "markdown",
   "metadata": {},
   "source": [
    "### Fetching the Director(s)"
   ]
  },
  {
   "cell_type": "code",
   "execution_count": 278,
   "metadata": {},
   "outputs": [],
   "source": [
    "def fetch_director(obj):\n",
    "    L=[]\n",
    "    for i in ast.literal_eval(obj):\n",
    "        if i['job']=='Director':\n",
    "            L.append(i['name'])\n",
    "    return L"
   ]
  },
  {
   "cell_type": "markdown",
   "metadata": {},
   "source": [
    "### Stemming The Overview"
   ]
  },
  {
   "cell_type": "code",
   "execution_count": 279,
   "metadata": {},
   "outputs": [],
   "source": [
    "port_stem = PorterStemmer()\n",
    "\n",
    "def stemming(content):\n",
    "    # Only keeping alphabets in the content \n",
    "    stemmed_content = re.sub('[^a-zA-Z]', ' ', content)\n",
    "    # Removing spaces and converting to lowercase\n",
    "    stemmed_content = stemmed_content.lower()\n",
    "    stemmed_content = stemmed_content.split()\n",
    "    # Stemming the words that are not in stopwords\n",
    "    stemmed_content = [port_stem.stem(word) for word in stemmed_content if not word in stopwords.words('english')]\n",
    "    # Joining the list of words into a string\n",
    "    stemmed_content = ' '.join(stemmed_content)\n",
    "    return stemmed_content"
   ]
  },
  {
   "cell_type": "markdown",
   "metadata": {},
   "source": [
    "### Using the above functions"
   ]
  },
  {
   "cell_type": "code",
   "execution_count": 280,
   "metadata": {},
   "outputs": [],
   "source": [
    "movies_df['overview'] = movies_df['overview'].apply(stemming)\n",
    "movies_df['overview'] = movies_df['overview'].apply(lambda x:x.split())"
   ]
  },
  {
   "cell_type": "code",
   "execution_count": 281,
   "metadata": {},
   "outputs": [],
   "source": [
    "movies_df['genres'] = movies_df['genres'].apply(convert_list)"
   ]
  },
  {
   "cell_type": "code",
   "execution_count": 282,
   "metadata": {},
   "outputs": [],
   "source": [
    "movies_df['keywords'] = movies_df['keywords'].apply(convert_list)"
   ]
  },
  {
   "cell_type": "code",
   "execution_count": 283,
   "metadata": {},
   "outputs": [],
   "source": [
    "movies_df['cast'] = movies_df['cast'].apply(fetch_lead_actors)"
   ]
  },
  {
   "cell_type": "code",
   "execution_count": 284,
   "metadata": {},
   "outputs": [],
   "source": [
    "movies_df['crew'] = movies_df['crew'].apply(fetch_director)"
   ]
  },
  {
   "cell_type": "code",
   "execution_count": 285,
   "metadata": {},
   "outputs": [],
   "source": [
    "# If some popularity values might be 0, add 1 to avoid log(0)\n",
    "movies_df['popularity_log'] = np.log1p(movies_df['popularity'])\n",
    "\n",
    "movies_df['popularity_log_norm'] = scaler.fit_transform(movies_df[['popularity_log']])"
   ]
  },
  {
   "cell_type": "markdown",
   "metadata": {},
   "source": [
    "### Removes all white space for comparison"
   ]
  },
  {
   "cell_type": "code",
   "execution_count": null,
   "metadata": {},
   "outputs": [],
   "source": [
    "movies_df['genres'] = movies_df['genres'].apply(lambda x:[i.replace(\" \",\"\") for i in x])\n",
    "movies_df['keywords'] = movies_df['keywords'].apply(lambda x:[i.replace(\" \",\"\") for i in x])\n",
    "movies_df['cast'] = movies_df['cast'].apply(lambda x:[i.replace(\" \",\"\") for i in x])\n",
    "movies_df['crew'] = movies_df['crew'].apply(lambda x:[i.replace(\" \",\"\") for i in x])"
   ]
  },
  {
   "cell_type": "markdown",
   "metadata": {},
   "source": [
    "### New column with combined, overview, genres, keywords, cast and crew"
   ]
  },
  {
   "cell_type": "code",
   "execution_count": null,
   "metadata": {},
   "outputs": [],
   "source": [
    "movies_df['tags'] = movies_df['overview'] + movies_df['genres'] + movies_df['keywords'] + movies_df['cast'] + movies_df['crew']"
   ]
  },
  {
   "cell_type": "markdown",
   "metadata": {},
   "source": [
    "### New dataframe with 3 headers"
   ]
  },
  {
   "cell_type": "code",
   "execution_count": null,
   "metadata": {},
   "outputs": [],
   "source": [
    "movies = movies_df[['movie_id', 'title', 'tags']]"
   ]
  },
  {
   "cell_type": "markdown",
   "metadata": {},
   "source": [
    "###### Turns into a string rather than a list"
   ]
  },
  {
   "cell_type": "code",
   "execution_count": null,
   "metadata": {},
   "outputs": [
    {
     "name": "stderr",
     "output_type": "stream",
     "text": [
      "C:\\Users\\grans\\AppData\\Local\\Temp\\ipykernel_26696\\2816021526.py:1: SettingWithCopyWarning: \n",
      "A value is trying to be set on a copy of a slice from a DataFrame.\n",
      "Try using .loc[row_indexer,col_indexer] = value instead\n",
      "\n",
      "See the caveats in the documentation: https://pandas.pydata.org/pandas-docs/stable/user_guide/indexing.html#returning-a-view-versus-a-copy\n",
      "  movies['tags'] = movies['tags'].apply(lambda x:' '.join(x))\n"
     ]
    }
   ],
   "source": [
    "movies['tags'] = movies['tags'].apply(lambda x:' '.join(x))"
   ]
  },
  {
   "cell_type": "code",
   "execution_count": null,
   "metadata": {},
   "outputs": [
    {
     "data": {
      "text/html": [
       "<div>\n",
       "<style scoped>\n",
       "    .dataframe tbody tr th:only-of-type {\n",
       "        vertical-align: middle;\n",
       "    }\n",
       "\n",
       "    .dataframe tbody tr th {\n",
       "        vertical-align: top;\n",
       "    }\n",
       "\n",
       "    .dataframe thead th {\n",
       "        text-align: right;\n",
       "    }\n",
       "</style>\n",
       "<table border=\"1\" class=\"dataframe\">\n",
       "  <thead>\n",
       "    <tr style=\"text-align: right;\">\n",
       "      <th></th>\n",
       "      <th>movie_id</th>\n",
       "      <th>title</th>\n",
       "      <th>tags</th>\n",
       "    </tr>\n",
       "  </thead>\n",
       "  <tbody>\n",
       "    <tr>\n",
       "      <th>0</th>\n",
       "      <td>19995</td>\n",
       "      <td>Avatar</td>\n",
       "      <td>nd centuri parapleg marin dispatch moon pandor...</td>\n",
       "    </tr>\n",
       "    <tr>\n",
       "      <th>1</th>\n",
       "      <td>285</td>\n",
       "      <td>Pirates of the Caribbean: At World's End</td>\n",
       "      <td>captain barbossa long believ dead come back li...</td>\n",
       "    </tr>\n",
       "    <tr>\n",
       "      <th>2</th>\n",
       "      <td>206647</td>\n",
       "      <td>Spectre</td>\n",
       "      <td>cryptic messag bond past send trail uncov sini...</td>\n",
       "    </tr>\n",
       "    <tr>\n",
       "      <th>3</th>\n",
       "      <td>49026</td>\n",
       "      <td>The Dark Knight Rises</td>\n",
       "      <td>follow death district attorney harvey dent bat...</td>\n",
       "    </tr>\n",
       "    <tr>\n",
       "      <th>4</th>\n",
       "      <td>49529</td>\n",
       "      <td>John Carter</td>\n",
       "      <td>john carter war weari former militari captain ...</td>\n",
       "    </tr>\n",
       "  </tbody>\n",
       "</table>\n",
       "</div>"
      ],
      "text/plain": [
       "   movie_id                                     title  \\\n",
       "0     19995                                    Avatar   \n",
       "1       285  Pirates of the Caribbean: At World's End   \n",
       "2    206647                                   Spectre   \n",
       "3     49026                     The Dark Knight Rises   \n",
       "4     49529                               John Carter   \n",
       "\n",
       "                                                tags  \n",
       "0  nd centuri parapleg marin dispatch moon pandor...  \n",
       "1  captain barbossa long believ dead come back li...  \n",
       "2  cryptic messag bond past send trail uncov sini...  \n",
       "3  follow death district attorney harvey dent bat...  \n",
       "4  john carter war weari former militari captain ...  "
      ]
     },
     "execution_count": 240,
     "metadata": {},
     "output_type": "execute_result"
    }
   ],
   "source": [
    "movies.head()"
   ]
  },
  {
   "cell_type": "code",
   "execution_count": null,
   "metadata": {},
   "outputs": [
    {
     "name": "stderr",
     "output_type": "stream",
     "text": [
      "C:\\Users\\grans\\AppData\\Local\\Temp\\ipykernel_26696\\1170348455.py:1: SettingWithCopyWarning: \n",
      "A value is trying to be set on a copy of a slice from a DataFrame.\n",
      "Try using .loc[row_indexer,col_indexer] = value instead\n",
      "\n",
      "See the caveats in the documentation: https://pandas.pydata.org/pandas-docs/stable/user_guide/indexing.html#returning-a-view-versus-a-copy\n",
      "  movies['tags'] = movies['tags'].apply(lambda x:x.lower())\n"
     ]
    }
   ],
   "source": [
    "movies['tags'] = movies['tags'].apply(lambda x:x.lower())"
   ]
  },
  {
   "cell_type": "code",
   "execution_count": null,
   "metadata": {},
   "outputs": [
    {
     "data": {
      "text/plain": [
       "5000"
      ]
     },
     "execution_count": 242,
     "metadata": {},
     "output_type": "execute_result"
    }
   ],
   "source": [
    "vectors = cv.fit_transform(movies['tags']).toarray()\n",
    "len(cv.get_feature_names_out())"
   ]
  },
  {
   "cell_type": "markdown",
   "metadata": {},
   "source": [
    "### Uses ps (automatic NLP)"
   ]
  },
  {
   "cell_type": "code",
   "execution_count": null,
   "metadata": {},
   "outputs": [],
   "source": [
    "def stem(text):\n",
    "    y=[]\n",
    "    for i in text.split():\n",
    "        y.append(ps.stem(i))\n",
    "    return \" \".join(y)"
   ]
  },
  {
   "cell_type": "code",
   "execution_count": null,
   "metadata": {},
   "outputs": [
    {
     "name": "stderr",
     "output_type": "stream",
     "text": [
      "C:\\Users\\grans\\AppData\\Local\\Temp\\ipykernel_26696\\3456099318.py:1: SettingWithCopyWarning: \n",
      "A value is trying to be set on a copy of a slice from a DataFrame.\n",
      "Try using .loc[row_indexer,col_indexer] = value instead\n",
      "\n",
      "See the caveats in the documentation: https://pandas.pydata.org/pandas-docs/stable/user_guide/indexing.html#returning-a-view-versus-a-copy\n",
      "  movies['tags'] = movies['tags'].apply(stem)\n"
     ]
    }
   ],
   "source": [
    "movies['tags'] = movies['tags'].apply(stem)"
   ]
  },
  {
   "cell_type": "code",
   "execution_count": null,
   "metadata": {},
   "outputs": [],
   "source": [
    "similarity = cosine_similarity(vectors)"
   ]
  },
  {
   "cell_type": "code",
   "execution_count": null,
   "metadata": {},
   "outputs": [],
   "source": [
    "def split_names(name):\n",
    "    return re.sub(r'([a-z])([A-Z])', r'\\1 \\2', name)"
   ]
  },
  {
   "cell_type": "code",
   "execution_count": 291,
   "metadata": {},
   "outputs": [],
   "source": [
    "def fetch_movie_details(movie_id):\n",
    "    url = f'https://api.themoviedb.org/3/movie/{movie_id}?api_key={TMDB_API_KEY}&language=en-US'\n",
    "    try:\n",
    "        response = requests.get(url)\n",
    "        response.raise_for_status()\n",
    "        return response.json()\n",
    "    except requests.exceptions.RequestException as e:\n",
    "        print(f\"Error fetching details for movie ID {movie_id}: {e}\")\n",
    "        return None"
   ]
  },
  {
   "cell_type": "code",
   "execution_count": 294,
   "metadata": {},
   "outputs": [],
   "source": [
    "def get_imdb_rating(movie_id):\n",
    "    data = fetch_movie_details(movie_id)\n",
    "    if not data or 'imdb_id' not in data:\n",
    "        return None\n",
    "    \n",
    "    imdb_id = data['imdb_id']\n",
    "    imdb_url = f\"https://www.omdbapi.com/?i={imdb_id}&apikey={IMDB_API_KEY}\"\n",
    "    try:\n",
    "        imdb_response = requests.get(imdb_url)\n",
    "        imdb_response.raise_for_status()\n",
    "        imdb_data = imdb_response.json()\n",
    "        \n",
    "        # The IMDb rating is typically in 'imdbRating' field\n",
    "        if 'imdbRating' in imdb_data and imdb_data['imdbRating'] != 'N/A':\n",
    "            return float(imdb_data['imdbRating'])  # Convert to float if you want\n",
    "    except requests.exceptions.RequestException as e:\n",
    "        print(f\"Error fetching IMDb rating for IMDb ID {imdb_id}: {e}\")\n",
    "\n",
    "    return None"
   ]
  },
  {
   "cell_type": "code",
   "execution_count": null,
   "metadata": {},
   "outputs": [],
   "source": [
    "def fetch_poster_path(movie_id):\n",
    "    data = fetch_movie_details(movie_id)\n",
    "    poster_path = data.get('poster_path')\n",
    "    if poster_path:\n",
    "        return f'https://image.tmdb.org/t/p/w500/{poster_path}'"
   ]
  },
  {
   "cell_type": "code",
   "execution_count": null,
   "metadata": {},
   "outputs": [],
   "source": [
    "def get_poster_html(movie_id):\n",
    "    poster_path = fetch_poster_path(movie_id)\n",
    "    if poster_path:\n",
    "        return f'<img src=\"{poster_path}\" style=\"max-height:150px;\">'\n",
    "    else:\n",
    "        return ''"
   ]
  },
  {
   "cell_type": "code",
   "execution_count": null,
   "metadata": {},
   "outputs": [],
   "source": [
    "def get_movie_link_html(title):\n",
    "    google_search_link = f'https://www.google.com/search?q={title}'\n",
    "    return f'<a href=\"{google_search_link}\" target=\"_blank\">{title}</a>'"
   ]
  },
  {
   "cell_type": "code",
   "execution_count": null,
   "metadata": {},
   "outputs": [],
   "source": [
    "def recommend(movie):\n",
    "    movie_index = movies[movies['title'] == movie].index[0]\n",
    "    distances = similarity[movie_index]\n",
    "    movies_list = sorted(list(enumerate(distances)), reverse=True, key=lambda x: x[1])[1:26]\n",
    "    \n",
    "    # Create a dictionary to store the combined scores (similarity + popularity_weight * popularity)\n",
    "    combined_scores = {}\n",
    "    \n",
    "    w_similarity = 0.9\n",
    "    w_popularity = 0.1\n",
    "    w_imbd = 0.1\n",
    "\n",
    "    for i in movies_list:\n",
    "        index = i[0]\n",
    "        sim_score = i[1]\n",
    "        \n",
    "        pop_score = movies_df.iloc[index]['popularity_log_norm']\n",
    "\n",
    "        # Calculate the combined score\n",
    "        combined_score = (w_similarity * sim_score\n",
    "                          + w_popularity * pop_score)\n",
    "\n",
    "        combined_scores[index] = combined_score\n",
    "\n",
    "    # Sort the dictionary by combined scores in descending order\n",
    "    \n",
    "    sorted_combined_scores = sorted(combined_scores.items(), key=lambda x: x[1], reverse=True)\n",
    "\n",
    "    # Get the top 10 movies based on the combined scores\n",
    "    movies_final_list = sorted_combined_scores[:10]\n",
    "    \n",
    "    return movies_final_list\n",
    "\n",
    "    \n",
    "    \n",
    "def output_recommendations(movies_final_list):\n",
    "    \n",
    "    # Create an empty HTML string to accumulate the content\n",
    "    html_content = ''\n",
    "\n",
    "    # Add column headers\n",
    "    headers_html = '<div style=\"display: flex; align-items: center; font-weight: bold; text-align: center; padding: 10px;\">'\n",
    "    headers_html += '<div style=\"flex: 1;\">Number</div>'\n",
    "    headers_html += '<div style=\"flex: 2;\">Poster</div>'\n",
    "    headers_html += '<div style=\"flex: 2;\">Movie Title</div>'\n",
    "    headers_html += '<div style=\"flex: 8;\">Overview</div>'\n",
    "    headers_html += '<div style=\"flex: 2;\">Cast</div>'\n",
    "    headers_html += '<div style=\"flex: 2;\">Director</div>'\n",
    "    headers_html += '</div>'\n",
    "    html_content += headers_html\n",
    "\n",
    "    for counter, i in enumerate(movies_final_list, start=1):\n",
    "        title = movies_df.iloc[i[0]].title\n",
    "        overview = movies_call_df.iloc[i[0]].overview\n",
    "        cast = split_names('<br>'.join(movies_df.iloc[i[0]].cast))\n",
    "        crew = split_names('<br>'.join(movies_df.iloc[i[0]].crew))\n",
    "        movie_id = movies_df.iloc[i[0]].movie_id\n",
    "\n",
    "        # Get HTML for the poster image\n",
    "        poster_html = get_poster_html(movie_id)\n",
    "        \n",
    "        # Get clickable link HTML for the movie title\n",
    "        movie_title_link_html = get_movie_link_html(title)\n",
    "\n",
    "        # Build the row HTML\n",
    "        row_html = '<div style=\"display: flex; align-items: center; text-align: center; padding: 10px;\">'\n",
    "        row_html += f'<div style=\"flex: 1;\">{counter}</div>'\n",
    "        row_html += f'<div style=\"flex: 2;\">{poster_html}</div>'\n",
    "        row_html += f'<div style=\"flex: 2;\">{movie_title_link_html}</div>'\n",
    "        row_html += f'<div style=\"flex: 8;\">{overview}</div>'\n",
    "        row_html += f'<div style=\"flex: 2;\">{cast}</div>'\n",
    "        row_html += f'<div style=\"flex: 2;\">{crew}</div>'\n",
    "        row_html += '</div>'\n",
    "\n",
    "        # Append the row HTML to the content\n",
    "        html_content += row_html\n",
    "\n",
    "    # Display the accumulated HTML content\n",
    "    display(HTML(html_content))"
   ]
  },
  {
   "cell_type": "code",
   "execution_count": null,
   "metadata": {},
   "outputs": [
    {
     "data": {
      "text/html": [
       "<div style=\"display: flex; align-items: center; font-weight: bold; text-align: center; padding: 10px;\"><div style=\"flex: 1;\">Number</div><div style=\"flex: 2;\">Poster</div><div style=\"flex: 2;\">Movie Title</div><div style=\"flex: 8;\">Overview</div><div style=\"flex: 2;\">Cast</div><div style=\"flex: 2;\">Director</div></div><div style=\"display: flex; align-items: center; text-align: center; padding: 10px;\"><div style=\"flex: 1;\">1</div><div style=\"flex: 2;\"><img src=\"https://image.tmdb.org/t/p/w500//gAH73mMU7rgGZrpYkFYgFgSNHs5.jpg\" style=\"max-height:150px;\"></div><div style=\"flex: 2;\"><a href=\"https://www.google.com/search?q=Captain Phillips\" target=\"_blank\">Captain Phillips</a></div><div style=\"flex: 8;\">The true story of Captain Richard Phillips and the 2009 hijacking by Somali pirates of the US-flagged MV Maersk Alabama, the first American cargo ship to be hijacked in two hundred years.</div><div style=\"flex: 2;\">Tom Hanks<br>Catherine Keener<br>Max Martini</div><div style=\"flex: 2;\">Paul Greengrass</div></div><div style=\"display: flex; align-items: center; text-align: center; padding: 10px;\"><div style=\"flex: 1;\">2</div><div style=\"flex: 2;\"><img src=\"https://image.tmdb.org/t/p/w500//rNzQyW4f8B8cQeg7Dgj3n6eT5k9.jpg\" style=\"max-height:150px;\"></div><div style=\"flex: 2;\"><a href=\"https://www.google.com/search?q=The Notebook\" target=\"_blank\">The Notebook</a></div><div style=\"flex: 8;\">An epic love story centered around an older man who reads aloud to a woman with Alzheimer's. From a faded notebook, the old man's words bring to life the story about a couple who is separated by World War II, and is then passionately reunited, seven years later, after they have taken different paths.</div><div style=\"flex: 2;\">Rachel Mc Adams<br>Ryan Gosling<br>Gena Rowlands</div><div style=\"flex: 2;\">Nick Cassavetes</div></div><div style=\"display: flex; align-items: center; text-align: center; padding: 10px;\"><div style=\"flex: 1;\">3</div><div style=\"flex: 2;\"><img src=\"https://image.tmdb.org/t/p/w500//kIlzZJqV4SCGHrrjoGLBhmsO7z2.jpg\" style=\"max-height:150px;\"></div><div style=\"flex: 2;\"><a href=\"https://www.google.com/search?q=Ghost Ship\" target=\"_blank\">Ghost Ship</a></div><div style=\"flex: 8;\">After discovering a passenger ship missing since 1962 floating adrift on the Bering Sea, salvagers claim the vessel as their own. Once they begin towing the ghost ship towards harbor, a series of bizarre occurrences happen and the group becomes trapped inside the ship, which they soon learn is inhabited by a demonic creature.</div><div style=\"flex: 2;\">Gabriel Byrne<br>Julianna Margulies<br>Desmond Harrington</div><div style=\"flex: 2;\">Steve Beck</div></div><div style=\"display: flex; align-items: center; text-align: center; padding: 10px;\"><div style=\"flex: 1;\">4</div><div style=\"flex: 2;\"><img src=\"https://image.tmdb.org/t/p/w500//keGfSvCmYj7CvdRx36OdVrAEibE.jpg\" style=\"max-height:150px;\"></div><div style=\"flex: 2;\"><a href=\"https://www.google.com/search?q=Pirates of the Caribbean: On Stranger Tides\" target=\"_blank\">Pirates of the Caribbean: On Stranger Tides</a></div><div style=\"flex: 8;\">Captain Jack Sparrow crosses paths with a woman from his past, and he's not sure if it's love -- or if she's a ruthless con artist who's using him to find the fabled Fountain of Youth. When she forces him aboard the Queen Anne's Revenge, the ship of the formidable pirate Blackbeard, Jack finds himself on an unexpected adventure in which he doesn't know who to fear more: Blackbeard or the woman from his past.</div><div style=\"flex: 2;\">Johnny Depp<br>Penélope Cruz<br>Ian Mc Shane</div><div style=\"flex: 2;\">Rob Marshall</div></div><div style=\"display: flex; align-items: center; text-align: center; padding: 10px;\"><div style=\"flex: 1;\">5</div><div style=\"flex: 2;\"><img src=\"https://image.tmdb.org/t/p/w500//weVvNPfk6FM9vBg3BXtRtNAmiYM.jpg\" style=\"max-height:150px;\"></div><div style=\"flex: 2;\"><a href=\"https://www.google.com/search?q=In the Heart of the Sea\" target=\"_blank\">In the Heart of the Sea</a></div><div style=\"flex: 8;\">In the winter of 1820, the New England whaling ship Essex was assaulted by something no one could believe: a whale of mammoth size and will, and an almost human sense of vengeance.  The real-life maritime disaster would inspire Herman Melville’s Moby Dick.  But that told only half the story.  “Heart of the Sea” reveals the encounter’s harrowing aftermath, as the ship’s surviving crew is pushed to their limits and forced to do the unthinkable to stay alive.  Braving storms, starvation, panic and despair, the men will call into question their deepest beliefs, from the value of their lives to the morality of their trade, as their captain searches for direction on the open sea and his first mate still seeks to bring the great whale down.</div><div style=\"flex: 2;\">Chris Hemsworth<br>Benjamin Walker<br>Cillian Murphy</div><div style=\"flex: 2;\">Ron Howard</div></div><div style=\"display: flex; align-items: center; text-align: center; padding: 10px;\"><div style=\"flex: 1;\">6</div><div style=\"flex: 2;\"><img src=\"https://image.tmdb.org/t/p/w500//AmHGUjhgXnOYRYrF2ZYMtzfwxPe.jpg\" style=\"max-height:150px;\"></div><div style=\"flex: 2;\"><a href=\"https://www.google.com/search?q=Supernova\" target=\"_blank\">Supernova</a></div><div style=\"flex: 8;\">Set in the 22nd century, when a battered salvage ship sends out a distress signal, the seasoned crew of the rescue hospital ship Nova-17 responds. What they find is a black hole--that threatens to destroy both ships--and a mysterious survivor whose body quickly mutates into a monstrous and deadly form.</div><div style=\"flex: 2;\">James Spader<br>Angela Bassett<br>Robert Forster</div><div style=\"flex: 2;\">Walter Hill<br>Jack Sholder</div></div><div style=\"display: flex; align-items: center; text-align: center; padding: 10px;\"><div style=\"flex: 1;\">7</div><div style=\"flex: 2;\"><img src=\"https://image.tmdb.org/t/p/w500//1ma5b9XLCziCHzQP0Zy1Y1PqNyM.jpg\" style=\"max-height:150px;\"></div><div style=\"flex: 2;\"><a href=\"https://www.google.com/search?q=Poseidon\" target=\"_blank\">Poseidon</a></div><div style=\"flex: 8;\">A packed cruise ship traveling the Atlantic is hit and overturned by a massive wave, compelling the passengers to begin a dramatic fight for their lives.</div><div style=\"flex: 2;\">Kurt Russell<br>Richard Dreyfuss<br>Josh Lucas</div><div style=\"flex: 2;\">Wolfgang Petersen</div></div><div style=\"display: flex; align-items: center; text-align: center; padding: 10px;\"><div style=\"flex: 1;\">8</div><div style=\"flex: 2;\"><img src=\"https://image.tmdb.org/t/p/w500//MbILysGhjAbnZi1Okae9wYqLMx.jpg\" style=\"max-height:150px;\"></div><div style=\"flex: 2;\"><a href=\"https://www.google.com/search?q=The Age of Adaline\" target=\"_blank\">The Age of Adaline</a></div><div style=\"flex: 8;\">After 29-year-old Adaline recovers from a nearly lethal accident, she inexplicably stops growing older. As the years stretch on and on, Adaline keeps her secret to herself  until she meets a man who changes her life.</div><div style=\"flex: 2;\">Blake Lively<br>Michiel Huisman<br>Harrison Ford</div><div style=\"flex: 2;\">Lee Toland Krieger</div></div><div style=\"display: flex; align-items: center; text-align: center; padding: 10px;\"><div style=\"flex: 1;\">9</div><div style=\"flex: 2;\"><img src=\"https://image.tmdb.org/t/p/w500//hbhFnRzzg6ZDmm8YAmxBnQpQIPh.jpg\" style=\"max-height:150px;\"></div><div style=\"flex: 2;\"><a href=\"https://www.google.com/search?q=WALL·E\" target=\"_blank\">WALL·E</a></div><div style=\"flex: 8;\">WALL·E is the last robot left on an Earth that has been overrun with garbage and all humans have fled to outer space. For 700 years he has continued to try and clean up the mess, but has developed some rather interesting human-like qualities. When a ship arrives with a sleek new type of robot, WALL·E thinks he's finally found a friend and stows away on the ship when it leaves.</div><div style=\"flex: 2;\">Ben Burtt<br>Elissa Knight<br>Jeff Garlin</div><div style=\"flex: 2;\">Andrew Stanton</div></div><div style=\"display: flex; align-items: center; text-align: center; padding: 10px;\"><div style=\"flex: 1;\">10</div><div style=\"flex: 2;\"><img src=\"https://image.tmdb.org/t/p/w500//hMFgXhUv5UWqgZckOtSmv1H0diS.jpg\" style=\"max-height:150px;\"></div><div style=\"flex: 2;\"><a href=\"https://www.google.com/search?q=The Bounty\" target=\"_blank\">The Bounty</a></div><div style=\"flex: 8;\">The familiar story of Lieutenant Bligh, whose cruelty leads to a mutiny on his ship. This version follows both the efforts of Fletcher Christian to get his men beyond the reach of British retribution, and the epic voyage of Lieutenant Bligh to get his loyalists safely to East Timor in a tiny lifeboat.</div><div style=\"flex: 2;\">Mel Gibson<br>Anthony Hopkins<br>Laurence Olivier</div><div style=\"flex: 2;\">Roger Donaldson</div></div>"
      ],
      "text/plain": [
       "<IPython.core.display.HTML object>"
      ]
     },
     "metadata": {},
     "output_type": "display_data"
    }
   ],
   "source": [
    "movie = \"Titanic\"\n",
    "recommendations = recommend(movie)\n",
    "output_recommendations(recommendations)"
   ]
  }
 ],
 "metadata": {
  "kernelspec": {
   "display_name": "Python 3",
   "language": "python",
   "name": "python3"
  },
  "language_info": {
   "codemirror_mode": {
    "name": "ipython",
    "version": 3
   },
   "file_extension": ".py",
   "mimetype": "text/x-python",
   "name": "python",
   "nbconvert_exporter": "python",
   "pygments_lexer": "ipython3",
   "version": "3.11.2"
  }
 },
 "nbformat": 4,
 "nbformat_minor": 2
}
